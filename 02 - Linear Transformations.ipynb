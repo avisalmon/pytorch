{
 "cells": [
  {
   "cell_type": "markdown",
   "id": "87103345-c6aa-4519-9d86-85235e6fa756",
   "metadata": {},
   "source": [
    "### Linear Transformations\n",
    "\n",
    "Linear transformations are fundamental concepts in linear algebra that enable us to describe how vectors and spaces are manipulated through linear mappings. \n",
    "\n",
    "In simple terms, a **linear transformation** is a function between vector spaces that preserves the operations of vector addition and scalar multiplication.\n",
    "\n",
    "Formally, if \\( T \\) is a linear transformation from a vector space \\( V \\) to a vector space \\( W \\), then for any vectors \\( u, v \\in V \\) and scalar \\( c \\), the following must hold:\n",
    "\n",
    "1. **Preservation of Vector Addition**: \n",
    "   \\[\n",
    "   T(u + v) = T(u) + T(v)\n",
    "   \\]\n",
    "\n",
    "2. **Preservation of Scalar Multiplication**: \n",
    "   \\[\n",
    "   T(c \\cdot v) = c \\cdot T(v)\n",
    "   \\]\n",
    "\n",
    "These properties ensure that the transformation is \"linear\" in nature, maintaining the structure of the vector spaces it operates on.\n"
   ]
  },
  {
   "cell_type": "markdown",
   "id": "c31844d8-c237-45e3-b1af-6c96ded1f22c",
   "metadata": {},
   "source": [
    "### Matrix Representation of Linear Transformations\n",
    "\n",
    "In practice, linear transformations are often represented using matrices. If \\( T: \\mathbb{R}^n \\to \\mathbb{R}^m \\) is a linear transformation, there exists a unique \\( m \\times n \\) matrix \\( A \\) such that for every vector \\( x \\in \\mathbb{R}^n \\), the transformation is given by matrix multiplication:\n",
    "\n",
    "$$\n",
    "T(x) = A \\cdot x\n",
    "$$\n",
    "\n",
    "Here, the matrix \\( A \\) acts as a transformation operator on the vector \\( x \\), transforming it into another vector in \\( \\mathbb{R}^m \\).\n"
   ]
  },
  {
   "cell_type": "markdown",
   "id": "1823adc4-0975-49de-bf08-39d9eda574ed",
   "metadata": {},
   "source": [
    "### Example of a Linear Transformation\n",
    "\n",
    "Consider a linear transformation \\( T: \\mathbb{R}^2 \\to \\mathbb{R}^2 \\) defined by the matrix:\n",
    "\n",
    "$$\n",
    "A = \\begin{bmatrix} 2 & 3 \\\\ 1 & 4 \\end{bmatrix}\n",
    "$$\n",
    "\n",
    "For a vector \\( x = \\begin{bmatrix} x_1 \\\\ x_2 \\end{bmatrix} \\), the transformation is given by:\n",
    "\n",
    "$$\n",
    "T(x) = A \\cdot x = \\begin{bmatrix} 2 & 3 \\\\ 1 & 4 \\end{bmatrix} \\begin{bmatrix} x_1 \\\\ x_2 \\end{bmatrix} = \\begin{bmatrix} 2x_1 + 3x_2 \\\\ x_1 + 4x_2 \\end{bmatrix}\n",
    "$$\n",
    "\n",
    "This results in a new vector formed by linearly transforming \\( x \\).\n"
   ]
  },
  {
   "cell_type": "markdown",
   "id": "e3db4b53-8b4b-4258-a677-952eca2516da",
   "metadata": {},
   "source": [
    "### Great Youtube Playlist:"
   ]
  },
  {
   "cell_type": "code",
   "execution_count": 9,
   "id": "f7309ba7-6fc0-4fe4-8cb2-b9f99f094b0b",
   "metadata": {},
   "outputs": [
    {
     "data": {
      "text/html": [
       "\n",
       "        <iframe\n",
       "            width=\"560\"\n",
       "            height=\"315\"\n",
       "            src=\"https://www.youtube.com/embed/videoseries?list=PLZHQObOWTQDPD3MizzM2xVFitgF8hE_ab\"\n",
       "            frameborder=\"0\"\n",
       "            allowfullscreen\n",
       "            \n",
       "        ></iframe>\n",
       "        "
      ],
      "text/plain": [
       "<IPython.lib.display.IFrame at 0x211afdceff0>"
      ]
     },
     "execution_count": 9,
     "metadata": {},
     "output_type": "execute_result"
    }
   ],
   "source": [
    "from IPython.display import IFrame\n",
    "\n",
    "# Replace 'YOUR_PLAYLIST_ID' with the actual ID\n",
    "IFrame(\"https://www.youtube.com/embed/videoseries?list=PLZHQObOWTQDPD3MizzM2xVFitgF8hE_ab\", width=560, height=315)\n",
    "\n",
    "\n",
    "# <iframe width=\"560\" height=\"315\" src=\"https://www.youtube.com/embed/videoseries?list=0maijPLow_YOUOVc&amp\" frameborder=\"0\" allow=\"accelerometer; autoplay; encrypted-media; gyroscope; picture-in-picture\" allowfullscreen></iframe>\n"
   ]
  },
  {
   "cell_type": "markdown",
   "id": "8faab3af-c41d-43c4-ae02-540c4d2e3cfc",
   "metadata": {},
   "source": [
    "### Implementing Linear Transformations in Python with PyTorch\n",
    "\n",
    "With PyTorch, linear transformations can be easily implemented using the `torch` library. Below is an example illustrating how to perform a linear transformation in PyTorch:\n",
    "\n",
    "First, we need to import the necessary libraries and define our matrix and vector:\n"
   ]
  },
  {
   "cell_type": "code",
   "execution_count": 12,
   "id": "eda08a40-46af-4f8f-ab2c-ff2e70d085a6",
   "metadata": {},
   "outputs": [
    {
     "name": "stdout",
     "output_type": "stream",
     "text": [
      "A=tensor([[2, 3],\n",
      "        [1, 4]])\n",
      "x=tensor([[1],\n",
      "        [2]])\n",
      "tensor([[8],\n",
      "        [9]])\n",
      "tensor([[8],\n",
      "        [9]])\n"
     ]
    }
   ],
   "source": [
    "import torch\n",
    "# Define the transformation matrix\n",
    "A = torch.tensor ([[2 , 3],\n",
    "[1, 4]])\n",
    "print(f'{A=}')\n",
    "# Define a vector\n",
    "x = torch.tensor ([[1] , [2]])\n",
    "print(f'{x=}')\n",
    "# Apply the linear transformation\n",
    "y = torch.matmul(A, x)\n",
    "print (y)\n",
    "y = A @ x\n",
    "print (y)"
   ]
  },
  {
   "cell_type": "code",
   "execution_count": 14,
   "id": "008687d2-45fe-4427-8309-c9f6197fce26",
   "metadata": {},
   "outputs": [
    {
     "name": "stdout",
     "output_type": "stream",
     "text": [
      "[2.00 3.00]\n",
      "[1.00 4.00]\n"
     ]
    }
   ],
   "source": [
    "# Prity print a matrix\n",
    "for row in A:\n",
    "    print(\"[\" + \" \".join(f\"{val.item():.2f}\" for val in row) + \"]\")"
   ]
  },
  {
   "cell_type": "code",
   "execution_count": null,
   "id": "0a6ce588-3a49-4a91-9747-4df8eafdadf0",
   "metadata": {},
   "outputs": [],
   "source": []
  }
 ],
 "metadata": {
  "kernelspec": {
   "display_name": "Python 3 (ipykernel)",
   "language": "python",
   "name": "python3"
  },
  "language_info": {
   "codemirror_mode": {
    "name": "ipython",
    "version": 3
   },
   "file_extension": ".py",
   "mimetype": "text/x-python",
   "name": "python",
   "nbconvert_exporter": "python",
   "pygments_lexer": "ipython3",
   "version": "3.12.3"
  }
 },
 "nbformat": 4,
 "nbformat_minor": 5
}
