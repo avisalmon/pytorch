{
 "cells": [
  {
   "cell_type": "markdown",
   "id": "461f32f3-871d-4493-b7b9-3951a3e9b801",
   "metadata": {},
   "source": [
    "# "
   ]
  },
  {
   "cell_type": "code",
   "execution_count": 1,
   "id": "c1d40fbd-7d7d-490a-938d-9f9527bbb91e",
   "metadata": {},
   "outputs": [],
   "source": [
    "import numpy as np  \n",
    "  \n",
    "# Example: Creating NumPy arrays (which can be used as matrices)  \n",
    "A = np.array([[1, 2], [3, 4]])  \n",
    "B = np.array([[5, 6], [7, 8]])  "
   ]
  },
  {
   "cell_type": "code",
   "execution_count": 2,
   "id": "2208ed3d-73da-4a28-ba93-fe896f3bc0de",
   "metadata": {},
   "outputs": [
    {
     "data": {
      "text/plain": [
       "array([[1, 2],\n",
       "       [3, 4]])"
      ]
     },
     "execution_count": 2,
     "metadata": {},
     "output_type": "execute_result"
    }
   ],
   "source": [
    "A"
   ]
  },
  {
   "cell_type": "code",
   "execution_count": 3,
   "id": "0ffacd9a-2a4a-49b2-bfee-c6f02cbc9eda",
   "metadata": {},
   "outputs": [],
   "source": [
    "# Matrix Multiplication  \n",
    "# Using the dot function or @ operator  \n",
    "C = np.dot(A, B)  \n",
    "D = A @ B  "
   ]
  },
  {
   "cell_type": "code",
   "execution_count": 4,
   "id": "d792d28d-9f82-4aa4-9db6-7522bd3a9556",
   "metadata": {},
   "outputs": [
    {
     "data": {
      "text/plain": [
       "array([[19, 22],\n",
       "       [43, 50]])"
      ]
     },
     "execution_count": 4,
     "metadata": {},
     "output_type": "execute_result"
    }
   ],
   "source": [
    "D"
   ]
  },
  {
   "cell_type": "code",
   "execution_count": 5,
   "id": "a4b74cc4-fa41-482c-8bee-8470fbbe2e5a",
   "metadata": {},
   "outputs": [],
   "source": [
    "# Element-wise Multiplication  \n",
    "E = A * B "
   ]
  },
  {
   "cell_type": "code",
   "execution_count": 6,
   "id": "40f86225-7306-4ee8-8003-c3771f883e12",
   "metadata": {},
   "outputs": [
    {
     "data": {
      "text/plain": [
       "array([[ 5, 12],\n",
       "       [21, 32]])"
      ]
     },
     "execution_count": 6,
     "metadata": {},
     "output_type": "execute_result"
    }
   ],
   "source": [
    "E"
   ]
  },
  {
   "cell_type": "code",
   "execution_count": 7,
   "id": "990031d2-808d-4bdc-b648-ec6557047628",
   "metadata": {},
   "outputs": [],
   "source": [
    "# Transposing a Matrix  \n",
    "A_T = np.transpose(A)  \n",
    "B_T = B.T  # You can also use the .T attribute "
   ]
  },
  {
   "cell_type": "code",
   "execution_count": 8,
   "id": "2dd8f14c-1b6d-40ad-8884-55536dda440f",
   "metadata": {},
   "outputs": [],
   "source": [
    "# Matrix Determinant  \n",
    "det_A = np.linalg.det(A)"
   ]
  },
  {
   "cell_type": "code",
   "execution_count": 9,
   "id": "bb7fbbb6-faa0-4506-951b-d290baba0e45",
   "metadata": {},
   "outputs": [
    {
     "data": {
      "text/plain": [
       "-2.0000000000000004"
      ]
     },
     "execution_count": 9,
     "metadata": {},
     "output_type": "execute_result"
    }
   ],
   "source": [
    "det_A"
   ]
  },
  {
   "cell_type": "code",
   "execution_count": 10,
   "id": "6cd4c711-b26f-4648-a329-94384bfd855a",
   "metadata": {},
   "outputs": [],
   "source": [
    "# Matrix Inverse  \n",
    "inv_A = np.linalg.inv(A)"
   ]
  },
  {
   "cell_type": "code",
   "execution_count": 11,
   "id": "043e1c49-148b-4993-b29b-35f4605c798a",
   "metadata": {},
   "outputs": [
    {
     "data": {
      "text/plain": [
       "array([[-2. ,  1. ],\n",
       "       [ 1.5, -0.5]])"
      ]
     },
     "execution_count": 11,
     "metadata": {},
     "output_type": "execute_result"
    }
   ],
   "source": [
    "inv_A"
   ]
  },
  {
   "cell_type": "code",
   "execution_count": 12,
   "id": "5187f496-c5c3-4bc3-942c-030ba98166df",
   "metadata": {},
   "outputs": [
    {
     "data": {
      "text/plain": [
       "5"
      ]
     },
     "execution_count": 12,
     "metadata": {},
     "output_type": "execute_result"
    }
   ],
   "source": [
    "# Matrix Trace  \n",
    "trace_A = np.trace(A) \n",
    "trace_A"
   ]
  },
  {
   "cell_type": "code",
   "execution_count": 13,
   "id": "6c12925b-51d2-4043-924d-a8a1ceb46bb8",
   "metadata": {},
   "outputs": [
    {
     "name": "stdout",
     "output_type": "stream",
     "text": [
      "\n",
      "Solving the system Ax = b for x, where b = [1, 2]:\n",
      "[0.  0.5]\n"
     ]
    }
   ],
   "source": [
    "# Solving a system of linear equations (Ax = b)  \n",
    "b = np.array([1, 2])  \n",
    "x = np.linalg.solve(A, b)  \n",
    "  \n",
    "print(\"\\nSolving the system Ax = b for x, where b = [1, 2]:\")  \n",
    "print(x)  "
   ]
  },
  {
   "cell_type": "code",
   "execution_count": 14,
   "id": "7dd7c2c6-ed99-41fa-bbd6-9646cf002805",
   "metadata": {},
   "outputs": [
    {
     "name": "stdout",
     "output_type": "stream",
     "text": [
      "Matrix A:\n",
      "[[1 2 3]\n",
      " [4 5 6]\n",
      " [7 8 9]]\n"
     ]
    }
   ],
   "source": [
    "from scipy.linalg import lu\n",
    "# Define a matrix  \n",
    "A = np.array([  \n",
    "    [1, 2, 3],  \n",
    "    [4, 5, 6],  \n",
    "    [7, 8, 9]  \n",
    "])  \n",
    "  \n",
    "print(\"Matrix A:\")  \n",
    "print(A)  "
   ]
  },
  {
   "cell_type": "code",
   "execution_count": 15,
   "id": "968ef689-5852-46d5-816b-40663498913b",
   "metadata": {},
   "outputs": [
    {
     "name": "stdout",
     "output_type": "stream",
     "text": [
      "\n",
      "Rank of Matrix A:\n",
      "2\n"
     ]
    }
   ],
   "source": [
    "# Compute the rank of the matrix  \n",
    "rank = np.linalg.matrix_rank(A)  \n",
    "print(\"\\nRank of Matrix A:\")  \n",
    "print(rank)  "
   ]
  },
  {
   "cell_type": "code",
   "execution_count": 16,
   "id": "40213000-6777-4ef2-a0f8-7f2f3e7aa7f3",
   "metadata": {},
   "outputs": [
    {
     "name": "stdout",
     "output_type": "stream",
     "text": [
      "\n",
      "RREF of Matrix A:\n",
      "[[ 1.  0.  0.]\n",
      " [ 0.  1.  0.]\n",
      " [-0. -0.  1.]]\n"
     ]
    }
   ],
   "source": [
    "def rref(A):  \n",
    "    A = A.astype(float)  # Convert to float for division  \n",
    "    rows, cols = A.shape  \n",
    "    r = 0  # row  \n",
    "    pivots_pos = []  \n",
    "      \n",
    "    for c in range(cols):  \n",
    "        if r >= rows:  \n",
    "            break  \n",
    "        # Find the pivot row  \n",
    "        pivot = np.argmax(np.abs(A[r:rows, c])) + r  \n",
    "        if A[pivot, c] == 0:  \n",
    "            continue  \n",
    "        # Swap the current row with the pivot row  \n",
    "        A[[r, pivot]] = A[[pivot, r]]  \n",
    "        pivots_pos.append((r, c))  \n",
    "        # Normalize the pivot row  \n",
    "        A[r] = A[r] / A[r, c]  \n",
    "        # Eliminate the current column  \n",
    "        for i in range(rows):  \n",
    "            if i != r:  \n",
    "                A[i] = A[i] - A[i, c] * A[r]  \n",
    "        r += 1  \n",
    "  \n",
    "    return A, pivots_pos  \n",
    "  \n",
    "# Convert the matrix to its RREF  \n",
    "RREF_A, pivots = rref(A)  \n",
    "  \n",
    "print(\"\\nRREF of Matrix A:\")  \n",
    "print(RREF_A)  "
   ]
  },
  {
   "cell_type": "code",
   "execution_count": null,
   "id": "4c1c5a44-9112-4009-b21f-9952d6d20b16",
   "metadata": {},
   "outputs": [],
   "source": []
  }
 ],
 "metadata": {
  "kernelspec": {
   "display_name": "Python 3 (ipykernel)",
   "language": "python",
   "name": "python3"
  },
  "language_info": {
   "codemirror_mode": {
    "name": "ipython",
    "version": 3
   },
   "file_extension": ".py",
   "mimetype": "text/x-python",
   "name": "python",
   "nbconvert_exporter": "python",
   "pygments_lexer": "ipython3",
   "version": "3.12.3"
  }
 },
 "nbformat": 4,
 "nbformat_minor": 5
}
