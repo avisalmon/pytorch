{
 "cells": [
  {
   "cell_type": "markdown",
   "id": "f1c8cbc1-85bc-49e0-ac80-4784e951e788",
   "metadata": {},
   "source": [
    "# Basics of Linear Algebra: Vectors and Matrices\n",
    "Linear algebra is a fundamental area of mathematics that is essential for understanding and effectively using machine learning libraries like PyTorch. In\n",
    "this chapter, we will delve into the basics of linear algebra, focusing on vectors\n",
    "and matrices, which are the building blocks for more complex operations and\n",
    "algorithms."
   ]
  },
  {
   "cell_type": "markdown",
   "id": "1b5c35f0-2356-4634-8507-2c51fd401ece",
   "metadata": {},
   "source": [
    "A vector is a mathematical object that has both magnitude and direction. In a computational context, a vector can be thought of as an array of numbers. Formally, a vector in \\$( \\mathbb{R}^n \\)$ is an ordered list of numbers, written as:\n",
    "\n",
    "$\n",
    "mathbf{v} = \\begin{bmatrix} v_1 \\\\ v_2 \\\\ \\vdots \\\\ v_n \\end{bmatrix}\n",
    "$\n",
    "\n",
    "Each element \\$( v_i \\)$ in the vector is a component of the vector. Vectors can represent various quantities such as position, velocity, or even data features.\n",
    "\n",
    "In PyTorch, vectors can be represented using tensors. Below is an example of how to create a simple vector:\n"
   ]
  },
  {
   "cell_type": "code",
   "execution_count": 4,
   "id": "a33f10e2-c255-42ee-81ff-c7107ac4de27",
   "metadata": {},
   "outputs": [
    {
     "data": {
      "text/plain": [
       "tensor([1, 2, 3])"
      ]
     },
     "execution_count": 4,
     "metadata": {},
     "output_type": "execute_result"
    }
   ],
   "source": [
    "import torch\n",
    "# Create a 3- dimensional vector\n",
    "vector = torch.tensor([1 , 2, 3])\n",
    "vector"
   ]
  },
  {
   "cell_type": "markdown",
   "id": "ef4a6178-85b1-498c-ba92-59ef614bcbc1",
   "metadata": {},
   "source": [
    "# Operations on Vectors\n",
    "\n",
    "Vectors support a variety of operations, including addition, scalar multiplication, and the dot product. Here, we'll briefly discuss each operation:\n",
    "\n",
    "## Addition\n",
    "\n",
    "Vectors of the same dimension can be added together by adding the corresponding components. Given two vectors $\\mathbf{a}$ and $\\mathbf{b}$:\n",
    "\n",
    "$$\n",
    "\\mathbf{c} = \n",
    "\\begin{pmatrix}\n",
    "a_1 + b_1 \\\\\n",
    "a_2 + b_2 \\\\\n",
    "\\vdots \\\\\n",
    "a_n + b_n\n",
    "\\end{pmatrix}\n",
    "$$"
   ]
  },
  {
   "cell_type": "code",
   "execution_count": 6,
   "id": "bd55e5ee-0899-41d5-892e-72fd9f1e963a",
   "metadata": {},
   "outputs": [
    {
     "data": {
      "text/plain": [
       "tensor([5, 7, 9])"
      ]
     },
     "execution_count": 6,
     "metadata": {},
     "output_type": "execute_result"
    }
   ],
   "source": [
    "a = torch.tensor([1 , 2, 3])\n",
    "b = torch .tensor([4 , 5, 6])\n",
    "c = a + b\n",
    "\n",
    "c"
   ]
  },
  {
   "cell_type": "markdown",
   "id": "b50ab3d6-6746-4577-8544-91c523869770",
   "metadata": {},
   "source": [
    "## Scalar Multiplication\n",
    "\n",
    "A vector can be multiplied by a scalar (a single number), scaling each component of the vector:\n",
    "\n",
    "$$\n",
    "\\mathbf{b} = c \\mathbf{a} = \n",
    "\\begin{pmatrix}\n",
    "c \\times a_1 \\\\\n",
    "c \\times a_2 \\\\\n",
    "\\vdots \\\\\n",
    "c \\times a_n\n",
    "\\end{pmatrix}\n",
    "$$\n",
    "\n",
    "Where:\n",
    "- $c$ is the scalar\n",
    "- $\\mathbf{a}$ is the original vector\n",
    "- $\\mathbf{b}$ is the resulting scaled vector"
   ]
  },
  {
   "cell_type": "code",
   "execution_count": 7,
   "id": "6b5798ff-bc41-4587-a7dc-d9e9775dba38",
   "metadata": {},
   "outputs": [
    {
     "data": {
      "text/plain": [
       "tensor([2, 4, 6])"
      ]
     },
     "execution_count": 7,
     "metadata": {},
     "output_type": "execute_result"
    }
   ],
   "source": [
    "c = 2\n",
    "b = c * a\n",
    "b"
   ]
  },
  {
   "cell_type": "markdown",
   "id": "47a1b0f1-6562-4fb1-be64-a6e54aaec6a3",
   "metadata": {},
   "source": [
    "## Dot Product\n",
    "\n",
    "The dot product of two vectors of the same dimension is a scalar obtained by multiplying corresponding entries and summing the results:\n",
    "\n",
    "$$\n",
    "\\mathbf{a} \\cdot \\mathbf{b} = a_1 \\times b_1 + a_2 \\times b_2 + \\cdots + a_n \\times b_n\n",
    "$$\n",
    "\n",
    "Alternatively, it can be written as:\n",
    "\n",
    "$$\n",
    "\\mathbf{a} \\cdot \\mathbf{b} = \\sum_{i=1}^n a_i b_i\n",
    "$$\n",
    "\n",
    "Where:\n",
    "- $\\mathbf{a}$ and $\\mathbf{b}$ are vectors of the same dimension\n",
    "- $n$ is the dimension of the vectors\n",
    "- $a_i$ and $b_i$ are the $i$-th components of vectors $\\mathbf{a}$ and $\\mathbf{b}$, respectively"
   ]
  },
  {
   "cell_type": "code",
   "execution_count": 16,
   "id": "d6389053-3aac-4121-bf0d-07aae00d8379",
   "metadata": {},
   "outputs": [
    {
     "name": "stdout",
     "output_type": "stream",
     "text": [
      "a=tensor([1, 2, 3])\n",
      "b=tensor([2, 4, 6])\n"
     ]
    },
    {
     "data": {
      "text/plain": [
       "tensor(28)"
      ]
     },
     "execution_count": 16,
     "metadata": {},
     "output_type": "execute_result"
    }
   ],
   "source": [
    "print(f'{a=}')\n",
    "print(f'{b=}')\n",
    "dot_product = torch.dot(a, b)\n",
    "\n",
    "dot_product"
   ]
  },
  {
   "cell_type": "code",
   "execution_count": 10,
   "id": "0a0c9e3e-f26a-41c8-a1bd-a5b24d1c5999",
   "metadata": {},
   "outputs": [
    {
     "name": "stdout",
     "output_type": "stream",
     "text": [
      "Recomndation: Video to explain vectors\n"
     ]
    },
    {
     "data": {
      "text/html": [
       "\n",
       "<iframe width=\"560\" height=\"315\" src=\"https://www.youtube.com/embed/fNk_zzaMoSs?si=UcWFhCE182PijqLM\" title=\"YouTube video player\" frameborder=\"0\" allow=\"accelerometer; autoplay; clipboard-write; encrypted-media; gyroscope; picture-in-picture; web-share\" referrerpolicy=\"strict-origin-when-cross-origin\" allowfullscreen></iframe>\n"
      ],
      "text/plain": [
       "<IPython.core.display.HTML object>"
      ]
     },
     "execution_count": 10,
     "metadata": {},
     "output_type": "execute_result"
    }
   ],
   "source": [
    "from IPython.display import HTML\n",
    "print('Recomndation: Video to explain vectors')\n",
    "\n",
    "# Replace VIDEO_ID with the actual YouTube video ID\n",
    "video_id = \"VIDEO_ID\"\n",
    "\n",
    "youtube_html = f\"\"\"\n",
    "<iframe width=\"560\" height=\"315\" src=\"https://www.youtube.com/embed/fNk_zzaMoSs?si=UcWFhCE182PijqLM\" title=\"YouTube video player\" frameborder=\"0\" allow=\"accelerometer; autoplay; clipboard-write; encrypted-media; gyroscope; picture-in-picture; web-share\" referrerpolicy=\"strict-origin-when-cross-origin\" allowfullscreen></iframe>\n",
    "\"\"\"\n",
    "\n",
    "# Display the YouTube video\n",
    "HTML(youtube_html)\n",
    "\n",
    "\n",
    "\n"
   ]
  },
  {
   "cell_type": "markdown",
   "id": "cf5dab55-1a20-4938-a975-6cfc9a8e0d97",
   "metadata": {},
   "source": [
    "# Matrices\n",
    "\n",
    "A matrix is a two-dimensional array of numbers arranged in rows and columns. It is often used to represent transformations and systems of linear equations. A matrix with $m$ rows and $n$ columns is called an $m \\times n$ matrix, denoted as:\n",
    "\n",
    "$$\n",
    "A = \\begin{pmatrix}\n",
    "a_{11} & a_{12} & \\cdots & a_{1n} \\\\\n",
    "a_{21} & a_{22} & \\cdots & a_{2n} \\\\\n",
    "\\vdots & \\vdots & \\ddots & \\vdots \\\\\n",
    "a_{m1} & a_{m2} & \\cdots & a_{mn}\n",
    "\\end{pmatrix}\n",
    "$$\n",
    "\n",
    "Where:\n",
    "- $a_{ij}$ represents the element in the $i$-th row and $j$-th column\n",
    "- $m$ is the number of rows\n",
    "- $n$ is the number of columns"
   ]
  },
  {
   "cell_type": "code",
   "execution_count": 18,
   "id": "268d8d08-21f2-4130-9425-1435f017bf33",
   "metadata": {},
   "outputs": [
    {
     "data": {
      "text/plain": [
       "tensor([[1, 2, 3],\n",
       "        [4, 5, 6]])"
      ]
     },
     "execution_count": 18,
     "metadata": {},
     "output_type": "execute_result"
    }
   ],
   "source": [
    "# Create a 2x3 matrix\n",
    "matrix = torch.tensor([[1 , 2, 3], [4, 5, 6]])\n",
    "matrix"
   ]
  },
  {
   "cell_type": "markdown",
   "id": "b4175b9c-3d1a-409f-81d6-59bbad5ac9ba",
   "metadata": {},
   "source": [
    "We can represent matrix in pure python or numpy, but we won;t get the magic of pytorch tensors"
   ]
  },
  {
   "cell_type": "code",
   "execution_count": 19,
   "id": "dc6b3cb6-de84-480f-830e-f4518bc4c7b6",
   "metadata": {},
   "outputs": [
    {
     "data": {
      "text/plain": [
       "[[1, 2, 3], [4, 5, 6]]"
      ]
     },
     "execution_count": 19,
     "metadata": {},
     "output_type": "execute_result"
    }
   ],
   "source": [
    "py_mat = [[1,2,3],[4,5,6]]\n",
    "py_mat"
   ]
  },
  {
   "cell_type": "code",
   "execution_count": 21,
   "id": "13574d13-b747-4011-af2a-05817763cd84",
   "metadata": {},
   "outputs": [
    {
     "data": {
      "text/plain": [
       "array([[1, 2, 3],\n",
       "       [4, 5, 6]])"
      ]
     },
     "execution_count": 21,
     "metadata": {},
     "output_type": "execute_result"
    }
   ],
   "source": [
    "import numpy as np\n",
    "np_mat =  np.array([[1,2,3],[4,5,6]])\n",
    "np_mat"
   ]
  },
  {
   "cell_type": "markdown",
   "id": "8aca394b-d2d9-43a7-b5c9-2ecdf695a82a",
   "metadata": {},
   "source": [
    "# Operations on Matrices\n",
    "\n",
    "Matrices support operations such as addition, scalar multiplication, and matrix multiplication:\n",
    "\n",
    "## Addition\n",
    "\n",
    "Like vectors, matrices of the same dimensions can be added together. For two matrices $A$ and $B$ of dimensions $m \\times n$, their sum $C = A + B$ is defined as:\n",
    "\n",
    "$$\n",
    "C = A + B = \n",
    "\\begin{pmatrix}\n",
    "a_{11} + b_{11} & a_{12} + b_{12} & \\cdots & a_{1n} + b_{1n} \\\\\n",
    "a_{21} + b_{21} & a_{22} + b_{22} & \\cdots & a_{2n} + b_{2n} \\\\\n",
    "\\vdots & \\vdots & \\ddots & \\vdots \\\\\n",
    "a_{m1} + b_{m1} & a_{m2} + b_{m2} & \\cdots & a_{mn} + b_{mn}\n",
    "\\end{pmatrix}\n",
    "$$\n",
    "\n",
    "Where:\n",
    "- $a_{ij}$ represents the element in the $i$-th row and $j$-th column of matrix $A$\n",
    "- $b_{ij}$ represents the element in the $i$-th row and $j$-th column of matrix $B$\n",
    "- $c_{ij} = a_{ij} + b_{ij}$ for all $i$ and $j$"
   ]
  },
  {
   "cell_type": "code",
   "execution_count": 22,
   "id": "63d7f4f6-f189-4097-a7b3-06912863b12b",
   "metadata": {},
   "outputs": [
    {
     "data": {
      "text/plain": [
       "tensor([[ 6,  8],\n",
       "        [10, 12]])"
      ]
     },
     "execution_count": 22,
     "metadata": {},
     "output_type": "execute_result"
    }
   ],
   "source": [
    "A = torch.tensor([[1 , 2], [3, 4]])\n",
    "B = torch.tensor([[5 , 6], [7, 8]])\n",
    "C = A + B\n",
    "# C is tensor ([[ 6, 8], [10 , 12]])\n",
    "C"
   ]
  },
  {
   "cell_type": "markdown",
   "id": "b11f6293-9a6c-44e5-bc6c-efb2009f7f7b",
   "metadata": {},
   "source": [
    "### Scalar Multiplication: \n",
    "Each element of a matrix is multiplied by a\n",
    "scalar:"
   ]
  },
  {
   "cell_type": "code",
   "execution_count": 26,
   "id": "ff705df2-9dd8-4777-8c27-17093c1dab82",
   "metadata": {},
   "outputs": [
    {
     "name": "stdout",
     "output_type": "stream",
     "text": [
      "tensor([[1, 2],\n",
      "        [3, 4]])\n"
     ]
    },
    {
     "data": {
      "text/plain": [
       "tensor([[2, 4],\n",
       "        [6, 8]])"
      ]
     },
     "execution_count": 26,
     "metadata": {},
     "output_type": "execute_result"
    }
   ],
   "source": [
    "print(A)\n",
    "D = 2 * A\n",
    "\n",
    "D"
   ]
  },
  {
   "cell_type": "markdown",
   "id": "2bfa0fbb-589f-4e2d-a05b-2702755dc8dd",
   "metadata": {},
   "source": [
    "### Matrix Multiplication\n",
    "\n",
    "Two matrices can be multiplied if the number of columns in the first matrix equals the number of rows in the second matrix:\n",
    "\n",
    "Let matrix \\( A \\) be of size \\( m \\times n \\) and matrix \\( B \\) be of size \\( n \\times p \\). The product \\( C = A \\times B \\) will result in a matrix \\( C \\) of size \\( m \\times p \\).\n",
    "\n",
    "The element in row \\( i \\) and column \\( j \\) of matrix \\( C \\) is given by:\n",
    "\n",
    "$$\n",
    "C_{ij} = \\sum_{k=1}^{n} A_{ik} \\cdot B_{kj}\n",
    "$$\n",
    "\n",
    "Where:\n",
    "- \\( A_{ik} \\) represents the element in row \\( i \\) and column \\( k \\) of matrix \\( A \\),\n",
    "- \\( B_{kj} \\) represents the element in row \\( k \\) and column \\( j \\) of matrix \\( B \\),\n",
    "- \\( C_{ij} \\) is the element in row \\( i \\) and column \\( j \\) of the resulting matrix \\( C \\).\n"
   ]
  },
  {
   "cell_type": "code",
   "execution_count": 30,
   "id": "8a03d03d-c49e-41f2-8e30-bf5584bd1fd5",
   "metadata": {},
   "outputs": [
    {
     "name": "stdout",
     "output_type": "stream",
     "text": [
      "E=tensor([[1, 2, 3],\n",
      "        [4, 5, 6]])\n",
      "shape=torch.Size([2, 3])\n",
      "\n",
      "F=tensor([[ 7,  8],\n",
      "        [ 9, 10],\n",
      "        [11, 12]])\n",
      "shape=torch.Size([3, 2])\n",
      "\n"
     ]
    },
    {
     "data": {
      "text/plain": [
       "tensor([[ 58,  64],\n",
       "        [139, 154]])"
      ]
     },
     "execution_count": 30,
     "metadata": {},
     "output_type": "execute_result"
    }
   ],
   "source": [
    "E = torch.tensor([[1 , 2, 3], [4, 5, 6]])\n",
    "F = torch.tensor([[7 , 8], [9, 10] , [11 , 12]])\n",
    "print(f'{E=}\\nshape={E.shape}\\n')\n",
    "print(f'{F=}\\nshape={F.shape}\\n')\n",
    "G = E @ F\n",
    "G"
   ]
  },
  {
   "cell_type": "markdown",
   "id": "d927866d-4452-4ae4-863b-b562b32a4905",
   "metadata": {},
   "source": [
    "### Practice Questions\n",
    "\n",
    "- Create a vector with elements \\([3, 5, 7]\\) and perform scalar multiplication with 3. What is the resulting vector?\n",
    "\n",
    "- Create two matrices \\( X = \\begin{bmatrix} 1 & 2 \\\\ 3 & 4 \\end{bmatrix} \\) and \\( Y = \\begin{bmatrix} 5 & 6 \\\\ 7 & 8 \\end{bmatrix} \\). \n",
    "  Perform the addition of \\( X \\) and \\( Y \\), and the scalar multiplication of \\( X \\) with 5.\n",
    "\n",
    "- Calculate the dot product of vectors \\([1, 4, 6]\\) and \\([2, 3, 5]\\).\n",
    "\n",
    "- Multiply matrices \\( A = \\begin{bmatrix} 2 & 4 \\\\ 1 & 3 \\end{bmatrix} \\) and \\( B = \\begin{bmatrix} 3 & 7 \\\\ 5 & 8 \\end{bmatrix} \\).\n"
   ]
  },
  {
   "cell_type": "markdown",
   "id": "36f9e547-00b7-4003-beef-06f158287d33",
   "metadata": {},
   "source": [
    "### Vector Spaces and Subspaces\n",
    "\n",
    "Vectors and matrices are fundamental concepts in linear algebra and play a crucial role in machine learning frameworks like PyTorch. In this chapter, we will delve into the concepts of vector spaces and subspaces, which form the backbone for these mathematical entities.\n",
    "\n",
    "A **vector space** is a collection of vectors that can be added together and multiplied by scalars (numbers) to produce another vector within the same space. In a more formal sense, a vector space over a field \\( F \\) is a set \\( V \\) along with two operations: vector addition and scalar multiplication, that satisfy the following axioms (rules):\n",
    "\n",
    "#### Axioms of Vector Spaces:\n",
    "\n",
    "- **Closure under Addition**: For any two vectors \\( u, v \\in V \\), the sum \\( u + v \\) is also in \\( V \\).\n",
    "- **Closure under Scalar Multiplication**: For any vector \\( v \\in V \\) and scalar \\( c \\in F \\), the product \\( c \\cdot v \\) is in \\( V \\).\n",
    "- **Associative and Commutative Properties**: Vector addition is both associative and commutative.\n",
    "- **Additive Identity and Inverse**: There exists a zero vector \\( 0 \\) such that \\( v + 0 = v \\), and for every \\( v \\), there exists a vector \\( -v \\) such that \\( v + (-v) = 0 \\).\n",
    "- **Distributive Properties**: \n",
    "  - \\( c(u + v) = c \\cdot u + c \\cdot v \\) for any scalar \\( c \\),\n",
    "  - \\( (c + d) \\cdot v = c \\cdot v + d \\cdot v \\) for any scalars \\( c, d \\).\n",
    "- **Identity Element of Scalar Multiplication**: Multiplying a vector by the scalar 1 gives the vector itself: \\( 1 \\cdot v = v \\).\n",
    "\n",
    "Let’s see this in practice using Python with PyTorch:\n"
   ]
  },
  {
   "cell_type": "code",
   "execution_count": null,
   "id": "8d77bae0-e0e9-4d96-8d25-d85cf83375e9",
   "metadata": {},
   "outputs": [],
   "source": []
  }
 ],
 "metadata": {
  "kernelspec": {
   "display_name": "Python 3 (ipykernel)",
   "language": "python",
   "name": "python3"
  },
  "language_info": {
   "codemirror_mode": {
    "name": "ipython",
    "version": 3
   },
   "file_extension": ".py",
   "mimetype": "text/x-python",
   "name": "python",
   "nbconvert_exporter": "python",
   "pygments_lexer": "ipython3",
   "version": "3.12.3"
  }
 },
 "nbformat": 4,
 "nbformat_minor": 5
}
