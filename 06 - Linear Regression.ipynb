{
 "cells": [
  {
   "cell_type": "markdown",
   "id": "66d08bc1-1be7-40dd-b5aa-6a1bbc4b967c",
   "metadata": {},
   "source": [
    "## What is Linear Regression?\n",
    " \n",
    "Linear regression is a fundamental statistical method used to model the relationship between a dependent variable ( y ) and an independent variable ( x ) by fitting a linear equation to observed data. In simple linear regression, this relationship is defined by the equation of a straight line:\n",
    "\n",
    "$$\n",
    "y = wx + b\n",
    "$$\n",
    "\n",
    "( y ): Dependent variable (target output)\n",
    "( x ): Independent variable (input feature)\n",
    "( w ): Weight (slope of the line)\n",
    "( b ): Bias (y-intercept of the line)\n",
    "\n",
    "The objective is to find the optimal values of ( w ) and ( b ) that minimize the difference between the predicted values ( \\hat{y} ) and the actual values ( y ).\n",
    "Loss Function\n",
    " \n",
    "To measure how well the linear model fits the data, we use a loss function. A commonly used loss function for linear regression is the Mean Squared Error (MSE):\n",
    "\n",
    "$$\n",
    "\\text{MSE} = \\frac{1}{n} \\sum_{i=1}{n} (y_i - \\hat{y}_i)2\n",
    "$$\n",
    "\n",
    "( n ): Number of data points\n",
    "( y_i ): Actual value\n",
    "( \\hat{y}_i ): Predicted value from the model\n",
    "\n",
    "The goal is to minimize the MSE by adjusting ( w ) and ( b ).\n",
    "Gradient Descent\n",
    " \n",
    "Gradient descent is an optimization algorithm used to find the values of ( w ) and ( b ) that minimize the loss function. It involves calculating the gradients (partial derivatives) of the loss with respect to the parameters and updating the parameters in the opposite direction of the gradients.\n",
    "\n",
    "The update rules are:\n",
    "\n",
    "$$\n",
    "w_{\\text{new}} = w_{\\text{old}} - \\alpha \\frac{\\partial \\text{MSE}}{\\partial w}\n",
    "$$\n",
    "\n",
    "$$\n",
    "b_{\\text{new}} = b_{\\text{old}} - \\alpha \\frac{\\partial \\text{MSE}}{\\partial b}\n",
    "$$\n",
    "\n",
    "( \\alpha ): Learning rate (controls the step size of each update)\n",
    "( \\frac{\\partial \\text{MSE}}{\\partial w} ), ( \\frac{\\partial \\text{MSE}}{\\partial b} ): Gradients of the loss function with respect to ( w ) and ( b )\n",
    "Linear Regression in PyTorch\n",
    " \n",
    "PyTorch is an open-source machine learning library that accelerates the path from research prototyping to production deployment. It provides efficient tensor computations and automatic differentiation, which are essential for training machine learning models.\n",
    "\n",
    "Implementing Linear Regression with PyTorch"
   ]
  },
  {
   "cell_type": "code",
   "execution_count": 1,
   "id": "f58c275e-c774-4027-bb75-7f0f53d740dc",
   "metadata": {},
   "outputs": [],
   "source": [
    "import torch\n",
    "import torch.nn as nn  # we'll use this a lot going forward!\n",
    "\n",
    "import numpy as np\n",
    "import matplotlib.pyplot as plt\n",
    "%matplotlib inline"
   ]
  },
  {
   "cell_type": "markdown",
   "id": "a018e732-2d4e-4038-ad29-391dac329081",
   "metadata": {},
   "source": [
    "## Create a column matrix of X values\n",
    "We can create tensors right away rather than convert from NumPy arrays."
   ]
  },
  {
   "cell_type": "code",
   "execution_count": 2,
   "id": "b3dbed69-9b12-4e6b-9c42-4660146dcd9a",
   "metadata": {},
   "outputs": [],
   "source": [
    "X = torch.linspace(1,50,50).reshape(-1,1)\n",
    "\n",
    "# Equivalent to\n",
    "# X = torch.unsqueeze(torch.linspace(1,50,50), dim=1)"
   ]
  },
  {
   "cell_type": "code",
   "execution_count": 3,
   "id": "52a1044c-9528-4891-9e9f-efa5c4fbfc97",
   "metadata": {},
   "outputs": [
    {
     "data": {
      "text/plain": [
       "torch.Size([2, 5, 5])"
      ]
     },
     "execution_count": 3,
     "metadata": {},
     "output_type": "execute_result"
    }
   ],
   "source": [
    "torch.linspace(1,50,50).reshape(-1,5,5).shape\n"
   ]
  },
  {
   "cell_type": "code",
   "execution_count": 4,
   "id": "30e0b3b9-15fa-480b-ae0e-4a963c174204",
   "metadata": {},
   "outputs": [
    {
     "name": "stdout",
     "output_type": "stream",
     "text": [
      "tensor([[ 1.],\n",
      "        [ 2.],\n",
      "        [ 3.],\n",
      "        [ 4.],\n",
      "        [ 5.],\n",
      "        [ 6.],\n",
      "        [ 7.],\n",
      "        [ 8.],\n",
      "        [ 9.],\n",
      "        [10.]])\n",
      "torch.Size([50, 1])\n"
     ]
    }
   ],
   "source": [
    "print(X[:10])\n",
    "print(X.shape)"
   ]
  },
  {
   "cell_type": "markdown",
   "id": "0512e898-b5fa-475d-b843-cea5bc04d0ad",
   "metadata": {},
   "source": [
    "## Create a \"random\" array of error values\n",
    "We want 50 random integer values that collectively cancel each other out."
   ]
  },
  {
   "cell_type": "code",
   "execution_count": 5,
   "id": "6af49032-984d-4dad-a686-7ead40010792",
   "metadata": {},
   "outputs": [
    {
     "name": "stdout",
     "output_type": "stream",
     "text": [
      "tensor(-39.)\n"
     ]
    },
    {
     "data": {
      "text/plain": [
       "torch.Size([50, 1])"
      ]
     },
     "execution_count": 5,
     "metadata": {},
     "output_type": "execute_result"
    }
   ],
   "source": [
    "torch.manual_seed(42) # to obtain reproducible results\n",
    "e = torch.randint(-9,9,(50,1),dtype=torch.float)\n",
    "print(e.sum())\n",
    "e.shape"
   ]
  },
  {
   "cell_type": "code",
   "execution_count": 6,
   "id": "e47d5cb2-f903-4a82-a27c-28194a45243c",
   "metadata": {},
   "outputs": [
    {
     "name": "stdout",
     "output_type": "stream",
     "text": [
      "torch.Size([50, 1])\n"
     ]
    }
   ],
   "source": [
    "y = 2*X + 1 + e\n",
    "print(y.shape)"
   ]
  },
  {
   "cell_type": "markdown",
   "id": "545f3927-75f6-4d48-92cd-5930f3fb0aa5",
   "metadata": {},
   "source": [
    "## Plot"
   ]
  },
  {
   "cell_type": "code",
   "execution_count": 7,
   "id": "a05558d6-3408-4663-ba12-b957c979aa24",
   "metadata": {},
   "outputs": [
    {
     "data": {
      "text/plain": [
       "Text(0.5, 0, 'X')"
      ]
     },
     "execution_count": 7,
     "metadata": {},
     "output_type": "execute_result"
    },
    {
     "data": {
      "image/png": "[encoded data removed]",
      "text/plain": [
       "<Figure size 640x480 with 1 Axes>"
      ]
     },
     "metadata": {},
     "output_type": "display_data"
    }
   ],
   "source": [
    "plt.scatter(X,y)\n",
    "plt.title('Data simulated')\n",
    "plt.ylabel('y')\n",
    "plt.xlabel('X')"
   ]
  },
  {
   "cell_type": "markdown",
   "id": "9a32d1a5-f891-4967-9075-56b799429fe9",
   "metadata": {},
   "source": [
    "Simple linear model\n",
    "As a quick demonstration we'll show how the built-in nn.Linear() model preselects weight and bias values at random."
   ]
  },
  {
   "cell_type": "code",
   "execution_count": 8,
   "id": "f0091ada-da57-4a86-9d94-4dfb45a0a11b",
   "metadata": {},
   "outputs": [
    {
     "name": "stdout",
     "output_type": "stream",
     "text": [
      "Model weight W 0.5822619199752808\n",
      "Model Bias b   0.28373467922210693\n"
     ]
    }
   ],
   "source": [
    "torch.manual_seed(37)\n",
    "model = nn.Linear(in_features=1, out_features=1)\n",
    "\n",
    "print(f'Model weight W {model.weight.item()}')\n",
    "print(f'Model Bias b   {model.bias.item()}')"
   ]
  },
  {
   "cell_type": "code",
   "execution_count": 9,
   "id": "7c42d24b-3ce3-4891-9368-24b6c0ea2b4e",
   "metadata": {},
   "outputs": [
    {
     "data": {
      "text/plain": [
       "Linear(in_features=1, out_features=1, bias=True)"
      ]
     },
     "execution_count": 9,
     "metadata": {},
     "output_type": "execute_result"
    }
   ],
   "source": [
    "model"
   ]
  },
  {
   "cell_type": "markdown",
   "id": "b5180adc-2294-4dc4-965f-896b2c2ee99d",
   "metadata": {},
   "source": [
    "This are randum W and b that are probably very wrong. "
   ]
  },
  {
   "cell_type": "markdown",
   "id": "bd3bc120-0d7b-4758-a052-07e30fcc1f1a",
   "metadata": {},
   "source": [
    "Lets build a simpla single Neuron Network model"
   ]
  },
  {
   "cell_type": "code",
   "execution_count": 10,
   "id": "fd59c8df-f538-4f96-ac21-96c863fb1d09",
   "metadata": {},
   "outputs": [],
   "source": [
    "class Model(nn.Module):\n",
    "\n",
    "    def __init__(self):\n",
    "        super().__init__()\n",
    "        self.linear = nn.Linear(1,1)\n",
    "\n",
    "    def forward(self, x):\n",
    "        y_pred = self.linear(x)\n",
    "        return y_pred"
   ]
  },
  {
   "cell_type": "code",
   "execution_count": 31,
   "id": "6ecbb3b8-799a-4555-baf9-fd2c379734b4",
   "metadata": {},
   "outputs": [
    {
     "name": "stdout",
     "output_type": "stream",
     "text": [
      "Model(\n",
      "  (linear): Linear(in_features=1, out_features=1, bias=True)\n",
      ")\n",
      "Weight: 0.5822619199752808\n",
      "Bias:   0.28373467922210693\n"
     ]
    }
   ],
   "source": [
    "torch.manual_seed(37)\n",
    "model = Model() # it is hard coded for 1,1\n",
    "print(model)\n",
    "print('Weight:', model.linear.weight.item())\n",
    "print('Bias:  ', model.linear.bias.item())"
   ]
  },
  {
   "cell_type": "markdown",
   "id": "c9e7f799-680b-4158-a34b-8f3ef242169c",
   "metadata": {},
   "source": [
    "## Itterate over model parameters\n",
    "Here its only one neuron..."
   ]
  },
  {
   "cell_type": "code",
   "execution_count": 12,
   "id": "d75ae02d-0ef1-4c6a-922b-86c5dc1a753c",
   "metadata": {},
   "outputs": [
    {
     "name": "stdout",
     "output_type": "stream",
     "text": [
      "linear.weight \t 0.6182646751403809\n",
      "linear.bias \t -0.6681829690933228\n"
     ]
    }
   ],
   "source": [
    "for name, param in model.named_parameters():\n",
    "    print(name, '\\t', param.item())"
   ]
  },
  {
   "cell_type": "markdown",
   "id": "b0fa62a3-1c43-444c-a4ef-77a3ff2f4e1c",
   "metadata": {},
   "source": [
    "lets run a single scalar tensor through the model"
   ]
  },
  {
   "cell_type": "code",
   "execution_count": 13,
   "id": "68d4f14d-1c6b-489b-9e76-f54a2c38decf",
   "metadata": {
    "scrolled": true
   },
   "outputs": [
    {
     "data": {
      "text/plain": [
       "tensor([2.])"
      ]
     },
     "execution_count": 13,
     "metadata": {},
     "output_type": "execute_result"
    }
   ],
   "source": [
    "x = torch.tensor([2.])\n",
    "x"
   ]
  },
  {
   "cell_type": "code",
   "execution_count": 14,
   "id": "162bfc87-8320-421f-b89a-d20c78a34997",
   "metadata": {},
   "outputs": [
    {
     "name": "stdout",
     "output_type": "stream",
     "text": [
      "for input 2.0 the model predicts 0.568346381187439\n",
      "which is 0.6182646751403809 x tensor([2.]) + -0.6681829690933228 = 0.568346381187439\n"
     ]
    }
   ],
   "source": [
    "print(f'for input {x.item()} the model predicts {model.forward(x)[0]}')\n",
    "print(f'which is {model.linear.weight.item()} x {x} + {model.linear.bias.item()} = {model.forward(x).item()}')"
   ]
  },
  {
   "cell_type": "markdown",
   "id": "f19b901b-943e-4cdb-8a57-6ece8386f068",
   "metadata": {},
   "source": [
    "## Plot the initial model\n",
    "We can plot the untrained model against our dataset to get an idea of our starting point."
   ]
  },
  {
   "cell_type": "code",
   "execution_count": 20,
   "id": "c531523b-e3f5-41a5-a594-c3090a672ed1",
   "metadata": {},
   "outputs": [
    {
     "data": {
      "text/plain": [
       "[<matplotlib.lines.Line2D at 0x17907158770>]"
      ]
     },
     "execution_count": 20,
     "metadata": {},
     "output_type": "execute_result"
    },
    {
     "data": {
      "image/png": "[encoded data removed]",
      "text/plain": [
       "<Figure size 640x480 with 1 Axes>"
      ]
     },
     "metadata": {},
     "output_type": "display_data"
    }
   ],
   "source": [
    "y_real = 2*X + 1 + e\n",
    "plt.scatter(X.numpy(), y_real.numpy())\n",
    "y = model.forward(X)\n",
    "y = y.detach() # this detaches the gradients\n",
    "\n",
    "#plt.plot(X.numpy(), model.linear.weight.item()*X + model.linear.bias.item())\n",
    "y\n",
    "plt.plot(X.numpy(), y.numpy(), 'r')\n",
    "# plt.title('Data simulated')\n",
    "# plt.ylabel('y')\n",
    "# plt.xlabel('X')"
   ]
  },
  {
   "cell_type": "markdown",
   "id": "3a5c14d1-3769-41e1-8516-15272d553483",
   "metadata": {},
   "source": [
    "### lets train this model"
   ]
  },
  {
   "cell_type": "code",
   "execution_count": 32,
   "id": "c1dd8205-e909-4d18-9c03-7d7fb3574747",
   "metadata": {},
   "outputs": [],
   "source": [
    "# define a loss function\n",
    "criterion = nn.MSELoss()"
   ]
  },
  {
   "cell_type": "markdown",
   "id": "299519a2-67c7-4443-877f-d9673d93989d",
   "metadata": {},
   "source": [
    "## setting an optimizer SGD Stohastic gradient decent. \n",
    "Stochastic Gradient Descent (SGD) is an optimization algorithm used in machine learning and deep learning to minimize the error of a model by adjusting its parameters iteratively. Unlike standard gradient descent, which computes gradients using the entire dataset, SGD updates the model's parameters based on the gradient of the loss function with respect to a single data point (or a small batch) at each iteration. This makes SGD computationally efficient and well-suited for large datasets. However, it introduces noise in the updates, leading to a more stochastic path toward convergence, which can help escape local minima but may also result in less precise convergence compared to full-batch gradient descent."
   ]
  },
  {
   "cell_type": "code",
   "execution_count": 80,
   "id": "23da1582-bf45-48ba-9c4d-c02652a6eae7",
   "metadata": {},
   "outputs": [
    {
     "name": "stdout",
     "output_type": "stream",
     "text": [
      "Model(\n",
      "  (linear): Linear(in_features=1, out_features=1, bias=True)\n",
      ")\n",
      "Weight: 0.5822619199752808\n",
      "Bias:   0.28373467922210693\n"
     ]
    }
   ],
   "source": [
    "torch.manual_seed(37)\n",
    "model = Model() # it is hard coded for 1,1\n",
    "print(model)\n",
    "print('Weight:', model.linear.weight.item())\n",
    "print('Bias:  ', model.linear.bias.item())"
   ]
  },
  {
   "cell_type": "code",
   "execution_count": 81,
   "id": "a617550e-0326-47f3-846d-b0322735209b",
   "metadata": {},
   "outputs": [],
   "source": [
    "optimizer = torch.optim.SGD(model.parameters(),lr=0.001) # default lr=0.001"
   ]
  },
  {
   "cell_type": "code",
   "execution_count": 82,
   "id": "3f10944c-b2ed-4d93-b329-e02be08e5c9a",
   "metadata": {},
   "outputs": [],
   "source": [
    "# epochs are the number of runs over the data batches. "
   ]
  },
  {
   "cell_type": "code",
   "execution_count": 83,
   "id": "06a86af1-b5de-465b-8448-94feb101a55b",
   "metadata": {},
   "outputs": [],
   "source": [
    "epochs = 50 # probably way to much for this simple problem"
   ]
  },
  {
   "cell_type": "code",
   "execution_count": 84,
   "id": "dc1714dd-783c-4b1f-92ad-f5842e47d816",
   "metadata": {},
   "outputs": [],
   "source": [
    "losses = [] # this is for tracking the losses alonf the epochs"
   ]
  },
  {
   "cell_type": "code",
   "execution_count": 85,
   "id": "e8263065-12e0-424b-a50f-e2aa493645ee",
   "metadata": {},
   "outputs": [
    {
     "data": {
      "text/plain": [
       "0.5822619199752808"
      ]
     },
     "execution_count": 85,
     "metadata": {},
     "output_type": "execute_result"
    }
   ],
   "source": [
    "model.linear.weight.item()"
   ]
  },
  {
   "cell_type": "code",
   "execution_count": 112,
   "id": "d0bf6189-647d-4080-b7b7-a54513ec689b",
   "metadata": {},
   "outputs": [
    {
     "name": "stdout",
     "output_type": "stream",
     "text": [
      "epoch 1:\tloss 1245.9044189453125\t whights:0.7645385265350342 0.8300079107284546\n",
      "epoch 2:\tloss 492.51312255859375\t whights:2.750969409942627 0.8897255063056946\n",
      "epoch 3:\tloss 204.32261657714844\t whights:1.522415280342102 0.8519885540008545\n",
      "epoch 4:\tloss 94.08265686035156\t whights:2.2822823524475098 0.8745262026786804\n",
      "epoch 5:\tloss 51.91303634643555\t whights:1.8123400211334229 0.8597853183746338\n",
      "epoch 6:\tloss 35.781986236572266\t whights:2.1030166149139404 0.8681010603904724\n",
      "epoch 7:\tloss 29.6113338470459\t whights:1.9232617616653442 0.8621570467948914\n",
      "epoch 8:\tloss 27.25075912475586\t whights:2.034461736679077 0.8650329113006592\n",
      "epoch 9:\tloss 26.347631454467773\t whights:1.9657104015350342 0.8624542355537415\n",
      "epoch 10:\tloss 26.002016067504883\t whights:2.008256435394287 0.8632495403289795\n",
      "epoch 11:\tloss 25.86965560913086\t whights:1.981966495513916 0.8619585037231445\n",
      "epoch 12:\tloss 25.81888198852539\t whights:1.9982506036758423 0.8619582056999207\n",
      "epoch 13:\tloss 25.799299240112305\t whights:1.9882032871246338 0.8611599802970886\n",
      "epoch 14:\tloss 25.791664123535156\t whights:1.9944417476654053 0.8608556985855103\n",
      "epoch 15:\tloss 25.788589477539062\t whights:1.990607500076294 0.8602463603019714\n",
      "epoch 16:\tloss 25.78726577758789\t whights:1.9930031299591064 0.8598260879516602\n",
      "epoch 17:\tloss 25.786611557006836\t whights:1.991545557975769 0.859289288520813\n",
      "epoch 18:\tloss 25.786212921142578\t whights:1.9924710988998413 0.8588249683380127\n",
      "epoch 19:\tloss 25.785907745361328\t whights:1.9919228553771973 0.8583162426948547\n",
      "epoch 20:\tloss 25.785646438598633\t whights:1.992286205291748 0.8578354120254517\n",
      "epoch 21:\tloss 25.78539276123047\t whights:1.992085576057434 0.8573377132415771\n",
      "epoch 22:\tloss 25.785146713256836\t whights:1.9922336339950562 0.8568508625030518\n",
      "epoch 23:\tloss 25.78490447998047\t whights:1.9921661615371704 0.8563576936721802\n",
      "epoch 24:\tloss 25.78466796875\t whights:1.992231845855713 0.8558688163757324\n",
      "epoch 25:\tloss 25.784423828125\t whights:1.9922155141830444 0.855377733707428\n",
      "epoch 26:\tloss 25.78418731689453\t whights:1.9922494888305664 0.8548884391784668\n",
      "epoch 27:\tloss 25.783946990966797\t whights:1.9922524690628052 0.8543984293937683\n",
      "epoch 28:\tloss 25.783706665039062\t whights:1.9922746419906616 0.8539092540740967\n",
      "epoch 29:\tloss 25.783466339111328\t whights:1.992284893989563 0.8534199595451355\n",
      "epoch 30:\tloss 25.783227920532227\t whights:1.9923027753829956 0.8529311418533325\n",
      "epoch 31:\tloss 25.782987594604492\t whights:1.992315649986267 0.8524424433708191\n",
      "epoch 32:\tloss 25.782751083374023\t whights:1.992331624031067 0.8519541025161743\n",
      "epoch 33:\tloss 25.782506942749023\t whights:1.9923456907272339 0.8514659404754639\n",
      "epoch 34:\tloss 25.782270431518555\t whights:1.9923609495162964 0.8509780764579773\n",
      "epoch 35:\tloss 25.78203582763672\t whights:1.9923754930496216 0.8504904508590698\n",
      "epoch 36:\tloss 25.78179359436035\t whights:1.9923903942108154 0.8500030636787415\n",
      "epoch 37:\tloss 25.78155517578125\t whights:1.9924049377441406 0.8495159149169922\n",
      "epoch 38:\tloss 25.781322479248047\t whights:1.9924198389053345 0.8490290641784668\n",
      "epoch 39:\tloss 25.781084060668945\t whights:1.9924345016479492 0.8485424518585205\n",
      "epoch 40:\tloss 25.780847549438477\t whights:1.992449402809143 0.8480560779571533\n",
      "epoch 41:\tloss 25.780607223510742\t whights:1.9924640655517578 0.8475699424743652\n",
      "epoch 42:\tloss 25.780378341674805\t whights:1.9924787282943726 0.8470840454101562\n",
      "epoch 43:\tloss 25.780136108398438\t whights:1.9924935102462769 0.8465984463691711\n",
      "epoch 44:\tloss 25.7799015045166\t whights:1.9925082921981812 0.8461130857467651\n",
      "epoch 45:\tloss 25.77967071533203\t whights:1.9925228357315063 0.8456279635429382\n",
      "epoch 46:\tloss 25.77942657470703\t whights:1.9925377368927002 0.8451430797576904\n",
      "epoch 47:\tloss 25.779197692871094\t whights:1.9925521612167358 0.8446584343910217\n",
      "epoch 48:\tloss 25.778963088989258\t whights:1.9925670623779297 0.8441740870475769\n",
      "epoch 49:\tloss 25.778728485107422\t whights:1.9925814867019653 0.8436899781227112\n",
      "epoch 50:\tloss 25.778493881225586\t whights:1.9925965070724487 0.8432061076164246\n"
     ]
    }
   ],
   "source": [
    "# lets do everything in a single cell. \n",
    "torch.manual_seed(42) # to obtain reproducible results\n",
    "\n",
    "class Model(nn.Module):\n",
    "\n",
    "    def __init__(self):\n",
    "        super().__init__()\n",
    "        self.linear = nn.Linear(1,1)\n",
    "\n",
    "    def forward(self, x):\n",
    "        y_pred = self.linear(x)\n",
    "        return y_pred\n",
    "\n",
    "model = Model()\n",
    "criterion = nn.MSELoss()\n",
    "optimizer = torch.optim.SGD(model.parameters()) # lr=0.001 default\n",
    "\n",
    "X = torch.arange(0,50,1).view(-1, 1).float()\n",
    "e = torch.randint(-9,9,(50,1),dtype=torch.float)\n",
    "y = 2*X + 1 + e\n",
    "\n",
    "epochs = 50\n",
    "losses = []\n",
    "\n",
    "for i in range(epochs):\n",
    "    i += 1 # just to count from 1 and not 0\n",
    "    y_pred = model.forward(X)\n",
    "    loss = criterion(y_pred,y)\n",
    "    losses.append(loss.item())\n",
    "    print(f'epoch {i}:\\tloss {loss}\\t whights:{model.linear.weight.item()} {model.linear.bias.item()}')\n",
    "    \n",
    "    optimizer.zero_grad()\n",
    "    \n",
    "    loss.backward()\n",
    "    optimizer.step()\n"
   ]
  },
  {
   "cell_type": "code",
   "execution_count": 113,
   "id": "e5a127ff-1383-4a73-a64f-607129ab6146",
   "metadata": {},
   "outputs": [
    {
     "data": {
      "text/plain": [
       "[<matplotlib.lines.Line2D at 0x17913dc3740>]"
      ]
     },
     "execution_count": 113,
     "metadata": {},
     "output_type": "execute_result"
    },
    {
     "data": {
      "image/png": "[encoded data removed]",
      "text/plain": [
       "<Figure size 640x480 with 1 Axes>"
      ]
     },
     "metadata": {},
     "output_type": "display_data"
    }
   ],
   "source": [
    "plt.scatter(X.numpy(), y.numpy())\n",
    "y = model.forward(X)\n",
    "y = y.detach() # this detaches the gradients\n",
    "\n",
    "#plt.plot(X.numpy(), model.linear.weight.item()*X + model.linear.bias.item())\n",
    "plt.plot(X.numpy(), y.numpy(), 'r')"
   ]
  },
  {
   "cell_type": "code",
   "execution_count": 117,
   "id": "a02835c1-8e6a-4897-ba33-af47f4735a96",
   "metadata": {},
   "outputs": [
    {
     "data": {
      "text/plain": [
       "Text(0.5, 0, 'epochs')"
      ]
     },
     "execution_count": 117,
     "metadata": {},
     "output_type": "execute_result"
    },
    {
     "data": {
      "image/png": "[encoded data removed]",
      "text/plain": [
       "<Figure size 640x480 with 1 Axes>"
      ]
     },
     "metadata": {},
     "output_type": "display_data"
    }
   ],
   "source": [
    "plt.plot(range(epochs), losses)\n",
    "plt.ylabel('loss')\n",
    "plt.xlabel('epochs')"
   ]
  },
  {
   "cell_type": "code",
   "execution_count": null,
   "id": "98a0c3fa-03e0-4480-a38e-8f418f5bde04",
   "metadata": {},
   "outputs": [],
   "source": []
  }
 ],
 "metadata": {
  "kernelspec": {
   "display_name": "Python 3 (ipykernel)",
   "language": "python",
   "name": "python3"
  },
  "language_info": {
   "codemirror_mode": {
    "name": "ipython",
    "version": 3
   },
   "file_extension": ".py",
   "mimetype": "text/x-python",
   "name": "python",
   "nbconvert_exporter": "python",
   "pygments_lexer": "ipython3",
   "version": "3.12.3"
  }
 },
 "nbformat": 4,
 "nbformat_minor": 5
}
