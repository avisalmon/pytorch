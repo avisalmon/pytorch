{
 "cells": [
  {
   "cell_type": "markdown",
   "id": "ce38c817-2383-4560-b52c-d6c66320be38",
   "metadata": {},
   "source": [
    "### Introduction to PyTorch: Tensors\n",
    "\n",
    "PyTorch is a popular open-source machine learning library that provides a flexible and efficient platform for deep learning research and production. At its core, PyTorch leverages a key data structure called **Tensors**, which are similar to NumPy arrays but with additional features that support GPU acceleration, automatic differentiation, and more. This chapter provides an introduction to Tensors in PyTorch, highlighting their operations and usage.\n",
    "\n",
    "#### What are Tensors?\n",
    "\n",
    "Tensors can be thought of as generalized matrices. In mathematics, a tensor extends the idea of:\n",
    "- **Scalars** (0D),\n",
    "- **Vectors** (1D),\n",
    "- **Matrices** (2D),\n",
    "to higher dimensions (3D and beyond).\n",
    "\n",
    "In PyTorch, Tensors are used to store data that can be manipulated in a variety of ways.\n",
    "\n",
    "#### Creating Tensors\n",
    "\n",
    "You can create Tensors in several ways:\n",
    "- Directly from data.\n",
    "- From NumPy arrays.\n",
    "- Using PyTorch’s built-in functions.\n",
    "\n",
    "Here is how you create a Tensor using PyTorch:\n",
    "\n"
   ]
  },
  {
   "cell_type": "code",
   "execution_count": 5,
   "id": "5e8c176d-78c2-4eec-96ab-afb381f5060e",
   "metadata": {},
   "outputs": [
    {
     "name": "stdout",
     "output_type": "stream",
     "text": [
      "tensor([[0., 0.],\n",
      "        [0., 0.]])\n",
      "tensor([[1., 1.],\n",
      "        [1., 1.]])\n",
      "tensor([[0.8349, 0.4718],\n",
      "        [0.6434, 0.2210]])\n"
     ]
    }
   ],
   "source": [
    "import torch\n",
    "# Creating a tensor from a list\n",
    "data = [[1 , 2], [3, 4]]\n",
    "tensor_from_list = torch . tensor ( data )\n",
    "# Creating a tensor from a NumPy array\n",
    "import numpy as np\n",
    "numpy_array = np. array ( data )\n",
    "tensor_from_numpy = torch . from_numpy ( numpy_array )\n",
    "# Creating a tensor using built -in functions\n",
    "tensor_zeros = torch.zeros ((2 , 2))\n",
    "tensor_ones = torch.ones ((2 , 2))\n",
    "tensor_random = torch.rand((2 , 2))\n",
    "print(tensor_zeros)\n",
    "print(tensor_ones)\n",
    "print(tensor_random)"
   ]
  },
  {
   "cell_type": "markdown",
   "id": "d2a363eb-b579-463e-b335-dea4aa0f5d66",
   "metadata": {},
   "source": [
    "### Tensor Properties\n",
    "\n",
    "Tensors have several important properties that are essential to understand when working with PyTorch:\n",
    "\n",
    "- **Shape**: The dimensions of the tensor, which describe the size in each dimension.\n",
    "- **Data type**: The data type of the tensor elements, such as `float32`, `int64`, etc.\n",
    "- **Device**: Tensors can reside on the CPU or GPU, allowing you to leverage hardware acceleration for computations.\n",
    "\n",
    "Here’s how to check and manipulate these properties in PyTorch:\n"
   ]
  },
  {
   "cell_type": "code",
   "execution_count": 6,
   "id": "033ea446-d37d-47b4-907c-11f66d217a15",
   "metadata": {},
   "outputs": [
    {
     "name": "stdout",
     "output_type": "stream",
     "text": [
      "torch.Size([3, 3])\n",
      "torch.float32\n",
      "cpu\n"
     ]
    }
   ],
   "source": [
    "# Checking tensor properties\n",
    "tensor = torch . rand ((3 , 3))\n",
    "# Shape of the tensor\n",
    "print ( tensor . shape )\n",
    "# Data type of the tensor\n",
    "print ( tensor . dtype )\n",
    "# Device of the tensor\n",
    "print ( tensor . device )"
   ]
  },
  {
   "cell_type": "markdown",
   "id": "8d4ae20e-a471-4d6c-b5cd-f2a9dfae5885",
   "metadata": {},
   "source": [
    "### Moving Tensors to GPU\n",
    "\n",
    "To take advantage of GPU acceleration, you can move tensors to the GPU. PyTorch must be installed with CUDA support to use this feature.\n",
    "\n",
    "#### Installing PyTorch with CUDA Support\n",
    "\n",
    "To install PyTorch with CUDA, run the following command in your terminal (for Windows or Linux):\n",
    "\n",
    "```bash\n",
    "pip install torch torchvision torchaudio\n"
   ]
  },
  {
   "cell_type": "code",
   "execution_count": 7,
   "id": "9f489f64-65e4-4782-87c1-6409e66668f8",
   "metadata": {},
   "outputs": [
    {
     "data": {
      "text/plain": [
       "False"
      ]
     },
     "execution_count": 7,
     "metadata": {},
     "output_type": "execute_result"
    }
   ],
   "source": [
    "torch.cuda.is_available()"
   ]
  },
  {
   "cell_type": "code",
   "execution_count": 8,
   "id": "29e556af-7da8-4372-8c94-1935534423be",
   "metadata": {},
   "outputs": [
    {
     "name": "stdout",
     "output_type": "stream",
     "text": [
      "CUDA is not available.\n",
      "MPS is not available.\n",
      "CPU is available.\n"
     ]
    }
   ],
   "source": [
    "import torch\n",
    "\n",
    "# Check for CUDA support\n",
    "if torch.cuda.is_available():\n",
    "    print(\"CUDA is available.\")\n",
    "    num_cuda_devices = torch.cuda.device_count()\n",
    "    for device_id in range(num_cuda_devices):\n",
    "        print(f\"CUDA Device {device_id}: {torch.cuda.get_device_name(device_id)}\")\n",
    "else:\n",
    "    print(\"CUDA is not available.\")\n",
    "\n",
    "# Check for MPS (Apple Silicon) support\n",
    "if torch.backends.mps.is_available():\n",
    "    print(\"MPS (Apple Silicon) is available.\")\n",
    "else:\n",
    "    print(\"MPS is not available.\")\n",
    "\n",
    "# Default device is CPU, which is always available\n",
    "print(\"CPU is available.\")\n"
   ]
  },
  {
   "cell_type": "code",
   "execution_count": 9,
   "id": "dcb866c9-b16f-40fb-afb9-f08d6271b994",
   "metadata": {},
   "outputs": [
    {
     "name": "stdout",
     "output_type": "stream",
     "text": [
      "CUDA is not available. Using CPU.\n",
      "\n",
      "Tensor on CPU:\n",
      " tensor([[-0.8339,  0.6388],\n",
      "        [-1.3498,  1.1626]])\n",
      "\n",
      "Tensor moved to GPU:\n",
      " tensor([[-0.8339,  0.6388],\n",
      "        [-1.3498,  1.1626]])\n",
      "\n",
      "Result of tensor operation on GPU:\n",
      " tensor([[-1.6677,  1.2775],\n",
      "        [-2.6995,  2.3252]])\n",
      "\n",
      "Result moved back to CPU:\n",
      " tensor([[-1.6677,  1.2775],\n",
      "        [-2.6995,  2.3252]])\n"
     ]
    }
   ],
   "source": [
    "# you can move to colab and try it there if you don;t have a GPU. \n",
    "\n",
    "import torch\n",
    "\n",
    "# Check if CUDA is available\n",
    "if torch.cuda.is_available():\n",
    "    device = torch.device(\"cuda\")  # Specify device as CUDA (GPU)\n",
    "    print(\"CUDA is available. Using GPU:\", torch.cuda.get_device_name(0))\n",
    "else:\n",
    "    device = torch.device(\"cpu\")  # Fallback to CPU if CUDA is not available\n",
    "    print(\"CUDA is not available. Using CPU.\")\n",
    "\n",
    "# Create a tensor on the CPU\n",
    "cpu_tensor = torch.randn((2, 2))\n",
    "print(\"\\nTensor on CPU:\\n\", cpu_tensor)\n",
    "\n",
    "# Move the tensor to the GPU\n",
    "gpu_tensor = cpu_tensor.to(device)\n",
    "print(\"\\nTensor moved to GPU:\\n\", gpu_tensor)\n",
    "\n",
    "# Perform a simple operation on the GPU\n",
    "gpu_result = gpu_tensor * 2\n",
    "print(\"\\nResult of tensor operation on GPU:\\n\", gpu_result)\n",
    "\n",
    "# If needed, move the result back to CPU\n",
    "cpu_result = gpu_result.to(\"cpu\")\n",
    "print(\"\\nResult moved back to CPU:\\n\", cpu_result)\n"
   ]
  },
  {
   "cell_type": "code",
   "execution_count": null,
   "id": "2c04a6bf-6c39-4d62-ab27-6e4d18f6002c",
   "metadata": {},
   "outputs": [],
   "source": []
  }
 ],
 "metadata": {
  "kernelspec": {
   "display_name": "Python 3 (ipykernel)",
   "language": "python",
   "name": "python3"
  },
  "language_info": {
   "codemirror_mode": {
    "name": "ipython",
    "version": 3
   },
   "file_extension": ".py",
   "mimetype": "text/x-python",
   "name": "python",
   "nbconvert_exporter": "python",
   "pygments_lexer": "ipython3",
   "version": "3.12.3"
  }
 },
 "nbformat": 4,
 "nbformat_minor": 5
}
