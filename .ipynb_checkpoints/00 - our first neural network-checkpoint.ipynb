{
 "cells": [
  {
   "cell_type": "markdown",
   "id": "3ce54c14-3031-4bac-bc57-5817a905f612",
   "metadata": {},
   "source": [
    "# Lesson 1: Building a Neural Network for MNIST Handwriting Classification with PyTorch\n",
    "Welcome to the first lesson of our PyTorch training course! In this lesson, we'll walk through building a simple neural network to classify handwritten digits from the MNIST dataset. By the end of this lesson, you'll know how to:\n",
    "\n",
    "Install PyTorch\n",
    "Load and preprocess datasets\n",
    "Build a neural network model\n",
    "Train the model\n",
    "Evaluate its performance\n",
    "\n",
    "Let's get started!"
   ]
  },
  {
   "cell_type": "markdown",
   "id": "0d83a243-e352-4c23-a017-ddde5b059dcf",
   "metadata": {},
   "source": [
    "## Part 1: Installing PyTorch\n",
    "First, we need to install PyTorch. You can install it using pip. Run the following command in your terminal or command prompt:"
   ]
  },
  {
   "cell_type": "raw",
   "id": "2100414d-55a0-4565-abb3-345ca7c22293",
   "metadata": {},
   "source": [
    "> pip install torch torchvision"
   ]
  },
  {
   "cell_type": "markdown",
   "id": "d7bc9374-abd8-4a0b-97bb-91bb16c3eec6",
   "metadata": {},
   "source": [
    "## Part 2: Importing Libraries"
   ]
  },
  {
   "cell_type": "code",
   "execution_count": 1,
   "id": "c3946dc5-250f-4a5c-af14-d0b73357ef13",
   "metadata": {},
   "outputs": [],
   "source": [
    "import torch\n",
    "import torchvision\n",
    "import torch.nn as nn\n",
    "import torch.optim as optim\n",
    "import torchvision.transforms as transforms"
   ]
  },
  {
   "cell_type": "markdown",
   "id": "8c8d0924-0a14-477c-8e1f-52c55645aec9",
   "metadata": {},
   "source": [
    "## Part 3: Loading and Preprocessing the MNIST Dataset\n",
    "The MNIST dataset contains 60,000 training images and 10,000 testing images of handwritten digits (0-9). We'll use PyTorch's torchvision to load and preprocess the data.\n",
    "\n",
    "### 3.1 Define Transformations\n",
    "We need to convert the images to tensors and normalize them."
   ]
  },
  {
   "cell_type": "code",
   "execution_count": 2,
   "id": "3e9436a0-75f8-4b0c-9dda-701f645c6b31",
   "metadata": {},
   "outputs": [],
   "source": [
    "transform = transforms.Compose([\n",
    "    transforms.ToTensor(),\n",
    "    transforms.Normalize((0.5,), (0.5,))\n",
    "])\n"
   ]
  },
  {
   "cell_type": "markdown",
   "id": "30190ffc-cdc6-4ce3-b3ae-723ad9f5ae15",
   "metadata": {},
   "source": [
    "This code is setting up a sequence of transformations that will be applied to the MNIST images when they are loaded. Here's a step-by-step explanation:\n",
    "\n",
    "1. transforms.Compose([])\n",
    "What it does: transforms.Compose is a function provided by the torchvision.transforms module. It allows you to chain together multiple image transformations so that they are applied sequentially.\n",
    "Why it's used: It makes the code cleaner and more manageable by grouping all the transformations into one pipeline.\n",
    "2. transforms.ToTensor()\n",
    "What it does: Converts a PIL Image or NumPy ndarray into a PyTorch tensor. Specifically, it transforms the image data from a shape of (H, W, C) with pixel values in the range [0, 255] to a tensor of shape (C, H, W) with pixel values normalized to the range [0.0, 1.0].\n",
    "Why it's used: PyTorch models expect input data in the form of tensors. This transformation ensures that the image data is in the correct format and value range for the model.\n",
    "3. transforms.Normalize((0.5,), (0.5,))\n",
    "What it does: Normalizes the tensor image with mean and standard deviation."
   ]
  },
  {
   "cell_type": "markdown",
   "id": "69c39420-071b-4d9a-9162-aa5a69a63722",
   "metadata": {},
   "source": [
    "### 3.2 Load the Dataset"
   ]
  },
  {
   "cell_type": "code",
   "execution_count": 3,
   "id": "cb120d65-b04a-4fb5-8075-822a7b13fce9",
   "metadata": {},
   "outputs": [
    {
     "name": "stdout",
     "output_type": "stream",
     "text": [
      "Downloading http://yann.lecun.com/exdb/mnist/train-images-idx3-ubyte.gz\n",
      "Failed to download (trying next):\n",
      "HTTP Error 403: Forbidden\n",
      "\n",
      "Downloading https://ossci-datasets.s3.amazonaws.com/mnist/train-images-idx3-ubyte.gz\n",
      "Downloading https://ossci-datasets.s3.amazonaws.com/mnist/train-images-idx3-ubyte.gz to ./data\\MNIST\\raw\\train-images-idx3-ubyte.gz\n"
     ]
    },
    {
     "name": "stderr",
     "output_type": "stream",
     "text": [
      "100.0%\n"
     ]
    },
    {
     "name": "stdout",
     "output_type": "stream",
     "text": [
      "Extracting ./data\\MNIST\\raw\\train-images-idx3-ubyte.gz to ./data\\MNIST\\raw\n",
      "\n",
      "Downloading http://yann.lecun.com/exdb/mnist/train-labels-idx1-ubyte.gz\n",
      "Failed to download (trying next):\n",
      "HTTP Error 403: Forbidden\n",
      "\n",
      "Downloading https://ossci-datasets.s3.amazonaws.com/mnist/train-labels-idx1-ubyte.gz\n",
      "Downloading https://ossci-datasets.s3.amazonaws.com/mnist/train-labels-idx1-ubyte.gz to ./data\\MNIST\\raw\\train-labels-idx1-ubyte.gz\n"
     ]
    },
    {
     "name": "stderr",
     "output_type": "stream",
     "text": [
      "100.0%\n"
     ]
    },
    {
     "name": "stdout",
     "output_type": "stream",
     "text": [
      "Extracting ./data\\MNIST\\raw\\train-labels-idx1-ubyte.gz to ./data\\MNIST\\raw\n",
      "\n",
      "Downloading http://yann.lecun.com/exdb/mnist/t10k-images-idx3-ubyte.gz\n",
      "Failed to download (trying next):\n",
      "HTTP Error 403: Forbidden\n",
      "\n",
      "Downloading https://ossci-datasets.s3.amazonaws.com/mnist/t10k-images-idx3-ubyte.gz\n",
      "Downloading https://ossci-datasets.s3.amazonaws.com/mnist/t10k-images-idx3-ubyte.gz to ./data\\MNIST\\raw\\t10k-images-idx3-ubyte.gz\n"
     ]
    },
    {
     "name": "stderr",
     "output_type": "stream",
     "text": [
      "100.0%\n"
     ]
    },
    {
     "name": "stdout",
     "output_type": "stream",
     "text": [
      "Extracting ./data\\MNIST\\raw\\t10k-images-idx3-ubyte.gz to ./data\\MNIST\\raw\n",
      "\n",
      "Downloading http://yann.lecun.com/exdb/mnist/t10k-labels-idx1-ubyte.gz\n",
      "Failed to download (trying next):\n",
      "HTTP Error 403: Forbidden\n",
      "\n",
      "Downloading https://ossci-datasets.s3.amazonaws.com/mnist/t10k-labels-idx1-ubyte.gz\n",
      "Downloading https://ossci-datasets.s3.amazonaws.com/mnist/t10k-labels-idx1-ubyte.gz to ./data\\MNIST\\raw\\t10k-labels-idx1-ubyte.gz\n"
     ]
    },
    {
     "name": "stderr",
     "output_type": "stream",
     "text": [
      "100.0%"
     ]
    },
    {
     "name": "stdout",
     "output_type": "stream",
     "text": [
      "Extracting ./data\\MNIST\\raw\\t10k-labels-idx1-ubyte.gz to ./data\\MNIST\\raw\n",
      "\n"
     ]
    },
    {
     "name": "stderr",
     "output_type": "stream",
     "text": [
      "\n"
     ]
    }
   ],
   "source": [
    "trainset = torchvision.datasets.MNIST(root='./data', train=True, download=True, transform=transform)\n",
    "testset = torchvision.datasets.MNIST(root='./data', train=False, download=True, transform=transform)\n"
   ]
  },
  {
   "cell_type": "markdown",
   "id": "0d513cad-ad37-4fef-acf0-fcb4d24c72ba",
   "metadata": {},
   "source": [
    "### 3.3 Create Data Loaders\n",
    "Data loaders help us iterate over the dataset in batches."
   ]
  },
  {
   "cell_type": "code",
   "execution_count": 4,
   "id": "63c0d182-25f8-44f1-9adb-4a63615c6967",
   "metadata": {},
   "outputs": [],
   "source": [
    "trainloader = torch.utils.data.DataLoader(trainset, batch_size=64, shuffle=True)\n",
    "testloader = torch.utils.data.DataLoader(testset, batch_size=64, shuffle=False)"
   ]
  },
  {
   "cell_type": "markdown",
   "id": "761a6679-a081-4c4a-a1a3-05f7a3243973",
   "metadata": {},
   "source": [
    "## Part 4: Building the Neural Network\n",
    "We'll define a simple feedforward neural network using PyTorch's nn.Module."
   ]
  },
  {
   "cell_type": "code",
   "execution_count": 6,
   "id": "800f51ee-c8ae-492e-a3e2-59e618aa008a",
   "metadata": {},
   "outputs": [
    {
     "name": "stdout",
     "output_type": "stream",
     "text": [
      "Net(\n",
      "  (flatten): Flatten(start_dim=1, end_dim=-1)\n",
      "  (fc1): Linear(in_features=784, out_features=128, bias=True)\n",
      "  (fc2): Linear(in_features=128, out_features=64, bias=True)\n",
      "  (fc3): Linear(in_features=64, out_features=10, bias=True)\n",
      ")\n"
     ]
    }
   ],
   "source": [
    "import torch\n",
    "import torch.nn as nn\n",
    "\n",
    "class Net(nn.Module):\n",
    "    def __init__(self):\n",
    "        super(Net, self).__init__()\n",
    "        self.flatten = nn.Flatten()\n",
    "        self.fc1 = nn.Linear(28 * 28, 128)  # Input layer\n",
    "        self.fc2 = nn.Linear(128, 64)       # Hidden layer\n",
    "        self.fc3 = nn.Linear(64, 10)        # Output layer\n",
    "\n",
    "    def forward(self, x):\n",
    "        x = self.flatten(x)            # Flatten the image\n",
    "        x = torch.relu(self.fc1(x))\n",
    "        x = torch.relu(self.fc2(x))\n",
    "        x = self.fc3(x)                # Output layer (no activation function here)\n",
    "        return x\n",
    "\n",
    "net = Net()\n",
    "print(net)\n"
   ]
  },
  {
   "cell_type": "markdown",
   "id": "afca9256-a1b9-457d-a150-9adef17275cd",
   "metadata": {},
   "source": [
    "## Part 5: Defining Loss Function and Optimizer\n",
    "We'll use Cross-Entropy Loss and Stochastic Gradient Descent (SGD) optimizer."
   ]
  },
  {
   "cell_type": "code",
   "execution_count": 7,
   "id": "4b4bccd1-f113-45ae-bf20-fd1604ff5404",
   "metadata": {},
   "outputs": [],
   "source": [
    "criterion = nn.CrossEntropyLoss()\n",
    "optimizer = optim.SGD(net.parameters(), lr=0.01, momentum=0.9)"
   ]
  },
  {
   "cell_type": "markdown",
   "id": "c6040d95-0e03-494c-bdfa-456148b5e86c",
   "metadata": {},
   "source": [
    "## Part 6: Training the Network\n",
    "Now, let's train the network for a few epochs."
   ]
  },
  {
   "cell_type": "code",
   "execution_count": 8,
   "id": "a4ab2a5d-b91c-45bd-8c4c-7a1954924bf5",
   "metadata": {},
   "outputs": [
    {
     "name": "stdout",
     "output_type": "stream",
     "text": [
      "Epoch 1, Loss: 0.41820932138385547\n",
      "Epoch 2, Loss: 0.17766196434217285\n",
      "Epoch 3, Loss: 0.13029986289121323\n",
      "Epoch 4, Loss: 0.10591554407254736\n",
      "Epoch 5, Loss: 0.09001785701489262\n",
      "Finished Training\n"
     ]
    }
   ],
   "source": [
    "for epoch in range(5):  # Loop over the dataset multiple times\n",
    "    running_loss = 0.0\n",
    "    for images, labels in trainloader:\n",
    "        # Zero the parameter gradients\n",
    "        optimizer.zero_grad()\n",
    "\n",
    "        # Forward pass\n",
    "        outputs = net(images)\n",
    "        loss = criterion(outputs, labels)\n",
    "\n",
    "        # Backward pass and optimize\n",
    "        loss.backward()\n",
    "        optimizer.step()\n",
    "\n",
    "        running_loss += loss.item()\n",
    "\n",
    "    print(f'Epoch {epoch + 1}, Loss: {running_loss / len(trainloader)}')\n",
    "\n",
    "print('Finished Training')\n"
   ]
  },
  {
   "cell_type": "markdown",
   "id": "9d760cea-8920-4e2c-8837-261b3df39957",
   "metadata": {},
   "source": [
    "## Part 7: Evaluating the Model\n",
    "Let's see how well our model performs on the test dataset."
   ]
  },
  {
   "cell_type": "code",
   "execution_count": 9,
   "id": "c42d43fe-8b26-42c0-9f58-ce76cebb36c5",
   "metadata": {},
   "outputs": [
    {
     "name": "stdout",
     "output_type": "stream",
     "text": [
      "Accuracy of the network on the 10,000 test images: 96.47 %\n"
     ]
    }
   ],
   "source": [
    "correct = 0\n",
    "total = 0\n",
    "\n",
    "# We don't need gradients for evaluation\n",
    "with torch.no_grad():\n",
    "    for images, labels in testloader:\n",
    "        outputs = net(images)\n",
    "        _, predicted = torch.max(outputs.data, 1)\n",
    "        total += labels.size(0)\n",
    "        correct += (predicted == labels).sum().item()\n",
    "\n",
    "print(f'Accuracy of the network on the 10,000 test images: {100 * correct / total} %')\n"
   ]
  },
  {
   "cell_type": "markdown",
   "id": "867b1b0a-ae1e-4c34-8944-b8956b2be3ed",
   "metadata": {},
   "source": [
    "Visualizing some sample images along with their predicted labels is a great way to understand how your neural network is performing. We'll take 10 images from the test dataset, pass them through the trained network, and display the images along with the predicted and true labels.\n",
    "\n",
    "Let's walk through the steps:\n",
    "\n",
    "Retrieve 10 samples from the test dataset.\n",
    "Pass them through the trained network to get predictions.\n",
    "Display the images with their predicted and actual labels."
   ]
  },
  {
   "cell_type": "code",
   "execution_count": 10,
   "id": "d4d1d820-90ec-41b0-be7e-295c5da7f388",
   "metadata": {},
   "outputs": [],
   "source": [
    "import matplotlib.pyplot as plt\n",
    "import numpy as np\n"
   ]
  },
  {
   "cell_type": "code",
   "execution_count": 11,
   "id": "cbb5e126-387b-4c1d-ad32-83ceaf45e079",
   "metadata": {},
   "outputs": [],
   "source": [
    "# Get one batch of test images and labels\n",
    "dataiter = iter(testloader)\n",
    "images, labels = next(dataiter)\n"
   ]
  },
  {
   "cell_type": "code",
   "execution_count": 12,
   "id": "c58dc915-8ba2-4cec-9a03-d9abd1717364",
   "metadata": {},
   "outputs": [],
   "source": [
    "# Select the first 10 images and labels\n",
    "images = images[:10]\n",
    "labels = labels[:10]\n"
   ]
  },
  {
   "cell_type": "code",
   "execution_count": 13,
   "id": "d360979f-9331-4c3e-bbef-57b745269bf4",
   "metadata": {},
   "outputs": [],
   "source": [
    "# Set the model to evaluation mode\n",
    "net.eval()\n",
    "\n",
    "# Disable gradient computation for inference\n",
    "with torch.no_grad():\n",
    "    outputs = net(images)\n"
   ]
  },
  {
   "cell_type": "code",
   "execution_count": 17,
   "id": "aedc6121-6a1e-4187-b39b-b05d76fb0915",
   "metadata": {},
   "outputs": [
    {
     "data": {
      "text/plain": [
       "torch.Size([10, 10])"
      ]
     },
     "execution_count": 17,
     "metadata": {},
     "output_type": "execute_result"
    }
   ],
   "source": [
    "outputs.shape"
   ]
  },
  {
   "cell_type": "code",
   "execution_count": 14,
   "id": "e2297e85-a608-4710-9479-913b249b3332",
   "metadata": {},
   "outputs": [],
   "source": [
    "# Get the predicted labels\n",
    "_, predicted = torch.max(outputs, 1)\n"
   ]
  },
  {
   "cell_type": "code",
   "execution_count": 15,
   "id": "5c45ee57-eb66-4310-9008-038fdcad3782",
   "metadata": {},
   "outputs": [],
   "source": [
    "def imshow(img):\n",
    "    img = img / 2 + 0.5  # Unnormalize the image\n",
    "    npimg = img.numpy()\n",
    "    plt.imshow(np.transpose(npimg, (1, 2, 0)))\n",
    "    plt.axis('off')  # Hide axis\n"
   ]
  },
  {
   "cell_type": "code",
   "execution_count": 16,
   "id": "b093e432-bfca-4959-ba27-e85d29413aee",
   "metadata": {},
   "outputs": [
    {
     "data": {
      "image/png": "[encoded data removed]",
      "text/plain": [
       "<Figure size 1200x500 with 10 Axes>"
      ]
     },
     "metadata": {},
     "output_type": "display_data"
    }
   ],
   "source": [
    "# Prepare the figure\n",
    "fig, axes = plt.subplots(2, 5, figsize=(12, 5))\n",
    "fig.suptitle('Predicted vs Actual Labels', fontsize=16)\n",
    "\n",
    "# Convert class labels to numpy for easier indexing\n",
    "labels = labels.numpy()\n",
    "predicted = predicted.numpy()\n",
    "\n",
    "# Plot each image\n",
    "for idx in range(10):\n",
    "    ax = axes[idx // 5, idx % 5]  # Get the subplot\n",
    "    img = images[idx]\n",
    "    imshow(img)\n",
    "    ax.imshow(np.transpose(img.numpy(), (1, 2, 0)), cmap='gray')\n",
    "    ax.set_title(f'Predicted: {predicted[idx]}\\nActual: {labels[idx]}')\n",
    "    ax.axis('off')  # Hide axis\n",
    "\n",
    "plt.tight_layout()\n",
    "plt.show()\n"
   ]
  },
  {
   "cell_type": "markdown",
   "id": "59a00cd3-151b-4eab-84a6-81296b7ad640",
   "metadata": {},
   "source": [
    "## Conclusion\n",
    "By visualizing sample images alongside their predicted and actual labels, you can gain insights into how well your model is performing and identify any misclassifications. This method is a useful tool for both debugging and presenting your results."
   ]
  },
  {
   "cell_type": "code",
   "execution_count": null,
   "id": "8e0b1a3c-911b-411a-b526-1dffd75d3f41",
   "metadata": {},
   "outputs": [],
   "source": [
    "transform.transforms"
   ]
  }
 ],
 "metadata": {
  "kernelspec": {
   "display_name": "Python 3 (ipykernel)",
   "language": "python",
   "name": "python3"
  },
  "language_info": {
   "codemirror_mode": {
    "name": "ipython",
    "version": 3
   },
   "file_extension": ".py",
   "mimetype": "text/x-python",
   "name": "python",
   "nbconvert_exporter": "python",
   "pygments_lexer": "ipython3",
   "version": "3.12.6"
  }
 },
 "nbformat": 4,
 "nbformat_minor": 5
}
