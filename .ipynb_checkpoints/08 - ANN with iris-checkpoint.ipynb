{
 "cells": [
  {
   "cell_type": "code",
   "execution_count": 63,
   "id": "148c2e87-1a62-4fbc-b3dc-079b8470b6a5",
   "metadata": {},
   "outputs": [],
   "source": [
    "import torch\n",
    "import torch.nn as nn\n",
    "import torch.nn.functional as F"
   ]
  },
  {
   "cell_type": "code",
   "execution_count": 112,
   "id": "a7c834c6-870b-431c-9a68-5fa7c324738b",
   "metadata": {},
   "outputs": [],
   "source": [
    "class Model(nn.Module):\n",
    "\n",
    "    def __init__(self, in_features=4, h1 = 8, h2=9, out_features=3):\n",
    "        # How many layers\n",
    "        # input 4 features --> hidden layer h1 --> hidden h2 --> output 3 classes\n",
    "        super().__init__()\n",
    "        self.fc1 = nn.Linear(in_features, h1)\n",
    "        self.fc2 = nn.Linear(h1, h2)\n",
    "        self.out = nn.Linear(h2, out_features)\n",
    "\n",
    "\n",
    "    def forward(self,x):\n",
    "        x = F.relu(self.fc1(x))\n",
    "        x = F.relu(self.fc2(x))\n",
    "        x = self.out(x)\n",
    "        return x"
   ]
  },
  {
   "cell_type": "code",
   "execution_count": 183,
   "id": "bbf2c2f4-540a-4835-96cc-4a22982122be",
   "metadata": {},
   "outputs": [],
   "source": [
    "torch.manual_seed(32)\n",
    "model = Model()"
   ]
  },
  {
   "cell_type": "code",
   "execution_count": 184,
   "id": "187059aa-61f3-4e17-9e34-d0c7dfeebe50",
   "metadata": {},
   "outputs": [],
   "source": [
    "import pandas as pd\n",
    "import matplotlib.pyplot as plt\n",
    "%matplotlib inline"
   ]
  },
  {
   "cell_type": "code",
   "execution_count": 185,
   "id": "1c10fa30-06d9-43ce-97c0-2db362e3981c",
   "metadata": {},
   "outputs": [],
   "source": [
    "df = pd.read_csv('Data/iris.csv')"
   ]
  },
  {
   "cell_type": "code",
   "execution_count": 186,
   "id": "cd69c5f2-80d8-4c6c-93dc-a5188f4ba966",
   "metadata": {},
   "outputs": [
    {
     "data": {
      "text/html": [
       "<div>\n",
       "<style scoped>\n",
       "    .dataframe tbody tr th:only-of-type {\n",
       "        vertical-align: middle;\n",
       "    }\n",
       "\n",
       "    .dataframe tbody tr th {\n",
       "        vertical-align: top;\n",
       "    }\n",
       "\n",
       "    .dataframe thead th {\n",
       "        text-align: right;\n",
       "    }\n",
       "</style>\n",
       "<table border=\"1\" class=\"dataframe\">\n",
       "  <thead>\n",
       "    <tr style=\"text-align: right;\">\n",
       "      <th></th>\n",
       "      <th>sepal length (cm)</th>\n",
       "      <th>sepal width (cm)</th>\n",
       "      <th>petal length (cm)</th>\n",
       "      <th>petal width (cm)</th>\n",
       "      <th>target</th>\n",
       "    </tr>\n",
       "  </thead>\n",
       "  <tbody>\n",
       "    <tr>\n",
       "      <th>0</th>\n",
       "      <td>5.1</td>\n",
       "      <td>3.5</td>\n",
       "      <td>1.4</td>\n",
       "      <td>0.2</td>\n",
       "      <td>0.0</td>\n",
       "    </tr>\n",
       "    <tr>\n",
       "      <th>1</th>\n",
       "      <td>4.9</td>\n",
       "      <td>3.0</td>\n",
       "      <td>1.4</td>\n",
       "      <td>0.2</td>\n",
       "      <td>0.0</td>\n",
       "    </tr>\n",
       "    <tr>\n",
       "      <th>2</th>\n",
       "      <td>4.7</td>\n",
       "      <td>3.2</td>\n",
       "      <td>1.3</td>\n",
       "      <td>0.2</td>\n",
       "      <td>0.0</td>\n",
       "    </tr>\n",
       "    <tr>\n",
       "      <th>3</th>\n",
       "      <td>4.6</td>\n",
       "      <td>3.1</td>\n",
       "      <td>1.5</td>\n",
       "      <td>0.2</td>\n",
       "      <td>0.0</td>\n",
       "    </tr>\n",
       "    <tr>\n",
       "      <th>4</th>\n",
       "      <td>5.0</td>\n",
       "      <td>3.6</td>\n",
       "      <td>1.4</td>\n",
       "      <td>0.2</td>\n",
       "      <td>0.0</td>\n",
       "    </tr>\n",
       "  </tbody>\n",
       "</table>\n",
       "</div>"
      ],
      "text/plain": [
       "   sepal length (cm)  sepal width (cm)  petal length (cm)  petal width (cm)  \\\n",
       "0                5.1               3.5                1.4               0.2   \n",
       "1                4.9               3.0                1.4               0.2   \n",
       "2                4.7               3.2                1.3               0.2   \n",
       "3                4.6               3.1                1.5               0.2   \n",
       "4                5.0               3.6                1.4               0.2   \n",
       "\n",
       "   target  \n",
       "0     0.0  \n",
       "1     0.0  \n",
       "2     0.0  \n",
       "3     0.0  \n",
       "4     0.0  "
      ]
     },
     "execution_count": 186,
     "metadata": {},
     "output_type": "execute_result"
    }
   ],
   "source": [
    "df.head()"
   ]
  },
  {
   "cell_type": "code",
   "execution_count": 187,
   "id": "7dd16247-ad61-4e21-ae7f-af96455d2a73",
   "metadata": {},
   "outputs": [],
   "source": [
    "X = df.drop('target', axis=1).values\n",
    "y = df['target'].values"
   ]
  },
  {
   "cell_type": "code",
   "execution_count": 188,
   "id": "8f6fcaec-1770-442b-b413-61352a0a2afc",
   "metadata": {},
   "outputs": [],
   "source": [
    "from sklearn.model_selection import train_test_split"
   ]
  },
  {
   "cell_type": "code",
   "execution_count": 189,
   "id": "a9c86f28-0548-4961-b4f1-024d74029676",
   "metadata": {},
   "outputs": [],
   "source": [
    "X_train, X_test, y_train, y_test = train_test_split(X,y,test_size=0.2,shuffle=True, random_state=30)"
   ]
  },
  {
   "cell_type": "code",
   "execution_count": 190,
   "id": "8edb6412-f233-4e7f-b132-2afdb0ba7f04",
   "metadata": {},
   "outputs": [],
   "source": [
    "X_train = torch.FloatTensor(X_train)\n",
    "y_train = torch.LongTensor(y_train)\n",
    "X_test = torch.FloatTensor(X_test)\n",
    "y_test = torch.LongTensor(y_test)"
   ]
  },
  {
   "cell_type": "code",
   "execution_count": 191,
   "id": "91a52413-07e7-4105-a4b6-c05c02410851",
   "metadata": {},
   "outputs": [],
   "source": [
    "criterion = nn.CrossEntropyLoss()"
   ]
  },
  {
   "cell_type": "code",
   "execution_count": 192,
   "id": "6c323475-7ff5-4798-b624-e400c496f375",
   "metadata": {},
   "outputs": [],
   "source": [
    "optimizer = torch.optim.Adam(model.parameters(),lr=0.01 )"
   ]
  },
  {
   "cell_type": "markdown",
   "id": "e152d770-1724-48df-b05e-0fcdaf6e0174",
   "metadata": {},
   "source": [
    "What is Adam Optimizer? The Short Answer\n",
    "Adam, which stands for Adaptive Moment Estimation, is a popular optimization algorithm used in machine learning and, most often, in deep learning. \n",
    "\n",
    "Adam combines the main ideas from two other robust optimization techniques: momentum and RMSprop. It is named adaptive as it adjusts the learning rate for each parameter.\n",
    "\n",
    "Here are its key features and advantages:\n",
    "\n",
    "Adaptivity: Adam adapts the learning rate for each parameter, which can speed up learning in many cases.\n",
    "Momentum: It uses a form of momentum, helping it navigate complex surfaces such as ravines and saddle points more effectively.\n",
    "Bias correction: Adam includes bias correction terms, which help it perform well even in the initial stages of training.\n",
    "Computational efficiency: It’s relatively computationally efficient and has low memory requirements.\n",
    "Hyperparameter robustness: While the learning rate may need tuning, Adam is often less sensitive to hyperparameter choices than some other optimizers.\n",
    "To summarize, Adam makes models learn more efficiently by continuously adjusting the learning rate of each parameter and, as a consequence, tends to converge much more quickly than standard stochastic gradient descent. For many deep learning applications, it is, therefore a strong default choice."
   ]
  },
  {
   "cell_type": "code",
   "execution_count": 193,
   "id": "f39306f0-8ba3-44e6-94b3-f8287fcbc2d9",
   "metadata": {},
   "outputs": [
    {
     "data": {
      "text/plain": [
       "<bound method Module.parameters of Model(\n",
       "  (fc1): Linear(in_features=4, out_features=8, bias=True)\n",
       "  (fc2): Linear(in_features=8, out_features=9, bias=True)\n",
       "  (out): Linear(in_features=9, out_features=3, bias=True)\n",
       ")>"
      ]
     },
     "execution_count": 193,
     "metadata": {},
     "output_type": "execute_result"
    }
   ],
   "source": [
    "model.parameters"
   ]
  },
  {
   "cell_type": "code",
   "execution_count": null,
   "id": "0d8e098f-5bf7-4ded-9d72-54acca551e45",
   "metadata": {},
   "outputs": [],
   "source": []
  },
  {
   "cell_type": "markdown",
   "id": "d29c6591-6a6f-4fea-8677-1e1fb3dba7f5",
   "metadata": {},
   "source": [
    "## Training"
   ]
  },
  {
   "cell_type": "code",
   "execution_count": 194,
   "id": "7337d3c5-00ed-4fd4-b79d-dfb379f0bb49",
   "metadata": {},
   "outputs": [
    {
     "data": {
      "text/plain": [
       "torch.Size([120])"
      ]
     },
     "execution_count": 194,
     "metadata": {},
     "output_type": "execute_result"
    }
   ],
   "source": [
    "y_train.shape"
   ]
  },
  {
   "cell_type": "code",
   "execution_count": 195,
   "id": "5bc42e57-dcec-48c9-988e-37696724e776",
   "metadata": {},
   "outputs": [
    {
     "name": "stdout",
     "output_type": "stream",
     "text": [
      "epohc 0 loss=tensor(1.1696, grad_fn=<NllLossBackward0>)\n",
      "epohc 10 loss=tensor(0.9580, grad_fn=<NllLossBackward0>)\n",
      "epohc 20 loss=tensor(0.7985, grad_fn=<NllLossBackward0>)\n",
      "epohc 30 loss=tensor(0.6375, grad_fn=<NllLossBackward0>)\n",
      "epohc 40 loss=tensor(0.4394, grad_fn=<NllLossBackward0>)\n",
      "epohc 50 loss=tensor(0.2877, grad_fn=<NllLossBackward0>)\n",
      "epohc 60 loss=tensor(0.1715, grad_fn=<NllLossBackward0>)\n",
      "epohc 70 loss=tensor(0.1069, grad_fn=<NllLossBackward0>)\n",
      "epohc 80 loss=tensor(0.0790, grad_fn=<NllLossBackward0>)\n",
      "epohc 90 loss=tensor(0.0662, grad_fn=<NllLossBackward0>)\n"
     ]
    }
   ],
   "source": [
    "# EPOHCS = ?\n",
    "epohcs = 100\n",
    "losses = []\n",
    "\n",
    "for i in range(epohcs):\n",
    "    # forward and predict\n",
    "    y_pred = model(X_train)\n",
    "\n",
    "    #calculate the loss\n",
    "    loss = criterion(y_pred, y_train)\n",
    "    losses.append(loss.detach().numpy())\n",
    "\n",
    "    if i % 10 == 0 :\n",
    "        print(f'epohc {i} {loss=}')\n",
    "\n",
    "    # Back propogation\n",
    "    optimizer.zero_grad()\n",
    "    loss.backward()\n",
    "    optimizer.step()\n",
    "\n"
   ]
  },
  {
   "cell_type": "code",
   "execution_count": 196,
   "id": "eca395d1-247e-4e5d-a0a1-792b9b7dff0a",
   "metadata": {},
   "outputs": [
    {
     "data": {
      "image/png": "[encoded data removed]",
      "text/plain": [
       "<Figure size 640x480 with 1 Axes>"
      ]
     },
     "metadata": {},
     "output_type": "display_data"
    }
   ],
   "source": [
    "plt.plot(range(epohcs), losses)\n",
    "plt.ylabel('Loss')\n",
    "plt.xlabel('epoch');"
   ]
  },
  {
   "cell_type": "markdown",
   "id": "ca748f54-cf24-4042-b172-aea126e54d34",
   "metadata": {},
   "source": [
    "## test the model"
   ]
  },
  {
   "cell_type": "code",
   "execution_count": 171,
   "id": "a0e2de31-a63b-4364-8ecb-d46067a1cb38",
   "metadata": {},
   "outputs": [
    {
     "data": {
      "text/plain": [
       "torch.Size([30, 4])"
      ]
     },
     "execution_count": 171,
     "metadata": {},
     "output_type": "execute_result"
    }
   ],
   "source": [
    "y_test.shape\n",
    "X_test.shape"
   ]
  },
  {
   "cell_type": "code",
   "execution_count": 197,
   "id": "73c38806-f44d-4767-9071-12ea3daaf592",
   "metadata": {},
   "outputs": [
    {
     "name": "stdout",
     "output_type": "stream",
     "text": [
      "tensor(0.0913)\n"
     ]
    }
   ],
   "source": [
    "with torch.no_grad():\n",
    "    y_eval = model.forward(X_test)\n",
    "    loss = criterion(y_eval, y_test)\n",
    "    print(loss)"
   ]
  },
  {
   "cell_type": "code",
   "execution_count": 198,
   "id": "ab7e3e05-4d05-4200-8f88-e275d4877146",
   "metadata": {},
   "outputs": [
    {
     "data": {
      "text/plain": [
       "tensor(0.0913)"
      ]
     },
     "execution_count": 198,
     "metadata": {},
     "output_type": "execute_result"
    }
   ],
   "source": [
    "loss"
   ]
  },
  {
   "cell_type": "markdown",
   "id": "3994e5a4-235e-449d-8298-596a73a42134",
   "metadata": {},
   "source": [
    "## Note that over training may cause overfitting and the test check will be very wrong. "
   ]
  },
  {
   "cell_type": "code",
   "execution_count": 205,
   "id": "47ee3768-5bd0-412d-b465-bf7e67450405",
   "metadata": {},
   "outputs": [
    {
     "name": "stdout",
     "output_type": "stream",
     "text": [
      "1) tensor([  7.1550,   1.6004, -11.2217]) --> is really tensor(0)\n",
      "Wheee\n",
      "2) tensor([  7.4498,   1.5334, -11.5568]) --> is really tensor(0)\n",
      "Wheee\n",
      "3) tensor([  6.4882,   1.3932, -10.1283]) --> is really tensor(0)\n",
      "Wheee\n",
      "4) tensor([-8.2668,  1.7671,  6.7403]) --> is really tensor(2)\n",
      "Wheee\n",
      "5) tensor([-1.4318,  4.2662, -1.7456]) --> is really tensor(1)\n",
      "Wheee\n",
      "6) tensor([-1.8139,  4.1266, -1.2036]) --> is really tensor(1)\n",
      "Wheee\n",
      "7) tensor([-6.8967,  2.6422,  4.8270]) --> is really tensor(2)\n",
      "Wheee\n",
      "8) tensor([-8.9558,  1.8541,  7.3420]) --> is really tensor(2)\n",
      "Wheee\n",
      "9) tensor([-1.9645,  4.6214, -1.4397]) --> is really tensor(1)\n",
      "Wheee\n",
      "10) tensor([-9.6569,  2.4767,  7.6974]) --> is really tensor(2)\n",
      "Wheee\n",
      "11) tensor([ 6.4614,  1.2575, -9.9652]) --> is really tensor(0)\n",
      "Wheee\n",
      "12) tensor([-8.3762,  2.2512,  6.5536]) --> is really tensor(2)\n",
      "Wheee\n",
      "13) tensor([-0.6269,  3.7859, -2.2348]) --> is really tensor(1)\n",
      "Wheee\n",
      "14) tensor([-2.2278,  4.2619, -0.8986]) --> is really tensor(1)\n",
      "Wheee\n",
      "15) tensor([ 6.2020,  1.3459, -9.6979]) --> is really tensor(0)\n",
      "Wheee\n",
      "16) tensor([-2.1161,  4.5390, -1.2186]) --> is really tensor(1)\n",
      "Wheee\n",
      "17) tensor([  8.3638,   1.3189, -12.5893]) --> is really tensor(0)\n",
      "Wheee\n",
      "18) tensor([  6.6403,   1.4240, -10.3624]) --> is really tensor(0)\n",
      "Wheee\n",
      "19) tensor([  6.5659,   1.5944, -10.4213]) --> is really tensor(0)\n",
      "Wheee\n",
      "20) tensor([-6.0688,  3.1271,  3.7222]) --> is really tensor(1)\n",
      "BOOOO\n",
      "21) tensor([-5.7159,  3.3823,  3.1776]) --> is really tensor(2)\n",
      "BOOOO\n",
      "22) tensor([  6.7462,   1.2018, -10.2975]) --> is really tensor(0)\n",
      "Wheee\n",
      "23) tensor([  7.4708,   1.3272, -11.3923]) --> is really tensor(0)\n",
      "Wheee\n",
      "24) tensor([  7.2184,   1.2683, -10.9966]) --> is really tensor(0)\n",
      "Wheee\n",
      "25) tensor([-10.9550,   1.9778,   9.2099]) --> is really tensor(2)\n",
      "Wheee\n",
      "26) tensor([-9.8323,  1.3729,  8.4401]) --> is really tensor(2)\n",
      "Wheee\n",
      "27) tensor([-5.3322,  3.1293,  2.8964]) --> is really tensor(1)\n",
      "Wheee\n",
      "28) tensor([-9.4633,  1.5107,  7.9934]) --> is really tensor(2)\n",
      "Wheee\n",
      "29) tensor([  6.9238,   1.2654, -10.5965]) --> is really tensor(0)\n",
      "Wheee\n",
      "30) tensor([-4.2167,  3.8447,  1.4267]) --> is really tensor(1)\n",
      "Wheee\n",
      "28 / 30\n"
     ]
    }
   ],
   "source": [
    "correct = 0\n",
    "with torch.no_grad():\n",
    "    for i,data in enumerate(X_test):\n",
    "        y_val = model(data)\n",
    "        print(f'{i+1}) {str(y_val)} --> is really {str(y_test[i])}')\n",
    "        if y_val.argmax().item() == y_test[i]:\n",
    "            correct += 1\n",
    "            print('Wheee')\n",
    "        else:\n",
    "            print('BOOOO')\n",
    "\n",
    "print(f'{correct} / {len(X_test)}')"
   ]
  },
  {
   "cell_type": "markdown",
   "id": "dc47b6bf-3e88-44d2-8e32-d8acf06b3a81",
   "metadata": {},
   "source": [
    "## Saving a trainged model to a file. "
   ]
  },
  {
   "cell_type": "code",
   "execution_count": 206,
   "id": "cebba18f-f36a-4049-9a15-29e6e81a4b03",
   "metadata": {},
   "outputs": [],
   "source": [
    "torch.save(model.state_dict(), 'my_iris_model.pt')"
   ]
  },
  {
   "cell_type": "code",
   "execution_count": 207,
   "id": "8528a7cf-68ee-497b-8ce7-0099fcd66b5a",
   "metadata": {},
   "outputs": [
    {
     "name": "stdout",
     "output_type": "stream",
     "text": [
      " Volume in drive C is OSDisk\n",
      " Volume Serial Number is F4A6-0F0B\n",
      "\n",
      " Directory of C:\\Projects\\pytorch\n",
      "\n",
      "07/12/2024  13:07    <DIR>          .\n",
      "01/12/2024  10:56    <DIR>          ..\n",
      "12/10/2024  16:46                 9 .gitignore\n",
      "07/12/2024  10:01    <DIR>          .ipynb_checkpoints\n",
      "12/10/2024  14:28            53,162 00 - our first neural network.ipynb\n",
      "12/10/2024  13:51            17,397 01 - Vectors and Matrices.ipynb\n",
      "25/11/2024  16:43             7,807 011 -  matrix operations.ipynb\n",
      "12/10/2024  14:13             6,549 02 - Linear Transformations.ipynb\n",
      "12/10/2024  14:36             8,279 03. Tensors.ipynb\n",
      "12/10/2024  15:01           116,323 04 - Math functions and derivatives.ipynb\n",
      "12/10/2024  14:47             5,835 05 - Autograd and Backpropagation.ipynb\n",
      "16/11/2024  11:21           106,698 06 - Linear Regression.ipynb\n",
      "06/12/2024  18:41           129,301 07 - datasets utility.ipynb\n",
      "07/12/2024  13:07            41,029 08 - ANN with iris.ipynb\n",
      "16/11/2024  11:29    <DIR>          Data\n",
      "07/12/2024  11:09             1,769 Digraph.gv\n",
      "07/12/2024  11:09            27,566 Digraph.gv.png\n",
      "12/10/2024  13:05           369,534 Intro to Linear Algebra.pdf\n",
      "12/10/2024  13:10               113 launch_env.bat\n",
      "07/12/2024  10:26             1,769 model_architecture\n",
      "07/12/2024  10:26            27,566 model_architecture.png\n",
      "07/12/2024  13:07             3,076 my_iris_model.pt\n",
      "12/10/2024  16:46    <DIR>          portilla\n",
      "13/10/2024  19:12                93 pytorch.code-workspace\n",
      "12/10/2024  13:10                11 README.md\n",
      "12/10/2024  15:26           609,084 TBD - Neural Networks.ipynb\n",
      "              21 File(s)      1,532,970 bytes\n",
      "               5 Dir(s)  107,035,312,128 bytes free\n"
     ]
    }
   ],
   "source": [
    "!dir"
   ]
  },
  {
   "cell_type": "code",
   "execution_count": 211,
   "id": "b9ddfde1-3d2f-435d-8062-d4a15cbe7000",
   "metadata": {},
   "outputs": [
    {
     "data": {
      "text/plain": [
       "<bound method Module.eval of Model(\n",
       "  (fc1): Linear(in_features=4, out_features=8, bias=True)\n",
       "  (fc2): Linear(in_features=8, out_features=9, bias=True)\n",
       "  (out): Linear(in_features=9, out_features=3, bias=True)\n",
       ")>"
      ]
     },
     "execution_count": 211,
     "metadata": {},
     "output_type": "execute_result"
    }
   ],
   "source": [
    "new_model = Model()\n",
    "new_model.load_state_dict(torch.load('my_iris_model.pt'))\n",
    "new_model.eval"
   ]
  },
  {
   "cell_type": "markdown",
   "id": "32d73ce5-4ed6-4b18-8cf6-24cd5c634ba8",
   "metadata": {},
   "source": [
    "### you can also save the model class and the parameters:"
   ]
  },
  {
   "cell_type": "code",
   "execution_count": 212,
   "id": "6b3e0908-8412-40be-afda-1fea809990c5",
   "metadata": {},
   "outputs": [],
   "source": [
    "torch.save(model, 'my_iris_complete_model.pkl')"
   ]
  },
  {
   "cell_type": "code",
   "execution_count": 213,
   "id": "00b8c763-cf87-471c-a5b7-343c9eb2cf96",
   "metadata": {},
   "outputs": [],
   "source": [
    "loaded_model = torch.load('my_iris_complete_model.pkl')"
   ]
  },
  {
   "cell_type": "code",
   "execution_count": 214,
   "id": "21a0ba7f-3ccb-4f69-9d68-8859ba8297e1",
   "metadata": {},
   "outputs": [
    {
     "data": {
      "text/plain": [
       "<bound method Module.eval of Model(\n",
       "  (fc1): Linear(in_features=4, out_features=8, bias=True)\n",
       "  (fc2): Linear(in_features=8, out_features=9, bias=True)\n",
       "  (out): Linear(in_features=9, out_features=3, bias=True)\n",
       ")>"
      ]
     },
     "execution_count": 214,
     "metadata": {},
     "output_type": "execute_result"
    }
   ],
   "source": [
    "loaded_model.eval"
   ]
  },
  {
   "cell_type": "markdown",
   "id": "f1cac8c7-4068-4e27-8c04-b645d74d6deb",
   "metadata": {},
   "source": [
    "### feediong the model a new data from the field"
   ]
  },
  {
   "cell_type": "code",
   "execution_count": 215,
   "id": "a913be47-9f54-4bae-9998-73f00f2440b0",
   "metadata": {},
   "outputs": [],
   "source": [
    "mistery_flower = torch.tensor([5.6, 3.7, 2.2, 0.5])"
   ]
  },
  {
   "cell_type": "code",
   "execution_count": 219,
   "id": "960a46ff-14e5-447e-a4e3-42e0abdb2da1",
   "metadata": {},
   "outputs": [
    {
     "name": "stdout",
     "output_type": "stream",
     "text": [
      "0\n"
     ]
    }
   ],
   "source": [
    "with torch.no_grad():\n",
    "    res = loaded_model(mistery_flower).argmax().item()\n",
    "print(res)"
   ]
  },
  {
   "cell_type": "code",
   "execution_count": null,
   "id": "82d786e2-381d-4152-889a-25e641c6c774",
   "metadata": {},
   "outputs": [],
   "source": []
  }
 ],
 "metadata": {
  "kernelspec": {
   "display_name": "Python 3 (ipykernel)",
   "language": "python",
   "name": "python3"
  },
  "language_info": {
   "codemirror_mode": {
    "name": "ipython",
    "version": 3
   },
   "file_extension": ".py",
   "mimetype": "text/x-python",
   "name": "python",
   "nbconvert_exporter": "python",
   "pygments_lexer": "ipython3",
   "version": "3.12.3"
  }
 },
 "nbformat": 4,
 "nbformat_minor": 5
}
