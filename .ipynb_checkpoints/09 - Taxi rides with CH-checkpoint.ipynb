{
 "cells": [
  {
   "cell_type": "markdown",
   "id": "d71cbea8-942a-4cbf-8ab9-b239ee50a81d",
   "metadata": {},
   "source": [
    "# the NYC Taxi Fare dataset \n",
    "(often seen as train.csv or NYCTaxiFares.csv on Kaggle and other data portals) is a well-known dataset typically used to predict the fare amount for taxi rides in New York City based on various features such as pickup coordinates, drop-off coordinates, datetime, passenger count, and so on."
   ]
  },
  {
   "cell_type": "markdown",
   "id": "939160ea-b4f2-4e80-b206-2058f6b6d15f",
   "metadata": {},
   "source": [
    "## Step 1: Import Libraries"
   ]
  },
  {
   "cell_type": "code",
   "execution_count": 1,
   "id": "88480983-402d-4047-a0c7-0fc175226c83",
   "metadata": {},
   "outputs": [],
   "source": [
    "import numpy as np\n",
    "import pandas as pd\n",
    "import matplotlib.pyplot as plt\n",
    "import seaborn as sns\n",
    "\n",
    "# PyTorch libraries\n",
    "import torch\n",
    "import torch.nn as nn\n",
    "import torch.optim as optim\n",
    "\n",
    "# Set some display options (optional)\n",
    "pd.set_option('display.max_columns', None)\n",
    "pd.set_option('display.max_rows', 100)\n"
   ]
  },
  {
   "cell_type": "markdown",
   "id": "f0be75fa-ed4f-4640-b69d-5d6f070d8d0d",
   "metadata": {},
   "source": [
    "## Step 2: Load the Data\n",
    "In this step, we’ll load the taxi fare data into a Pandas DataFrame. Replace the path/file name with your actual file location."
   ]
  },
  {
   "cell_type": "code",
   "execution_count": 2,
   "id": "6116a8cf-44d9-46fb-9858-fb88d55bb300",
   "metadata": {},
   "outputs": [
    {
     "name": "stdout",
     "output_type": "stream",
     "text": [
      "(120000, 8)\n"
     ]
    },
    {
     "data": {
      "text/html": [
       "<div>\n",
       "<style scoped>\n",
       "    .dataframe tbody tr th:only-of-type {\n",
       "        vertical-align: middle;\n",
       "    }\n",
       "\n",
       "    .dataframe tbody tr th {\n",
       "        vertical-align: top;\n",
       "    }\n",
       "\n",
       "    .dataframe thead th {\n",
       "        text-align: right;\n",
       "    }\n",
       "</style>\n",
       "<table border=\"1\" class=\"dataframe\">\n",
       "  <thead>\n",
       "    <tr style=\"text-align: right;\">\n",
       "      <th></th>\n",
       "      <th>pickup_datetime</th>\n",
       "      <th>fare_amount</th>\n",
       "      <th>fare_class</th>\n",
       "      <th>pickup_longitude</th>\n",
       "      <th>pickup_latitude</th>\n",
       "      <th>dropoff_longitude</th>\n",
       "      <th>dropoff_latitude</th>\n",
       "      <th>passenger_count</th>\n",
       "    </tr>\n",
       "  </thead>\n",
       "  <tbody>\n",
       "    <tr>\n",
       "      <th>0</th>\n",
       "      <td>2010-04-19 08:17:56 UTC</td>\n",
       "      <td>6.5</td>\n",
       "      <td>0</td>\n",
       "      <td>-73.992365</td>\n",
       "      <td>40.730521</td>\n",
       "      <td>-73.975499</td>\n",
       "      <td>40.744746</td>\n",
       "      <td>1</td>\n",
       "    </tr>\n",
       "    <tr>\n",
       "      <th>1</th>\n",
       "      <td>2010-04-17 15:43:53 UTC</td>\n",
       "      <td>6.9</td>\n",
       "      <td>0</td>\n",
       "      <td>-73.990078</td>\n",
       "      <td>40.740558</td>\n",
       "      <td>-73.974232</td>\n",
       "      <td>40.744114</td>\n",
       "      <td>1</td>\n",
       "    </tr>\n",
       "    <tr>\n",
       "      <th>2</th>\n",
       "      <td>2010-04-17 11:23:26 UTC</td>\n",
       "      <td>10.1</td>\n",
       "      <td>1</td>\n",
       "      <td>-73.994149</td>\n",
       "      <td>40.751118</td>\n",
       "      <td>-73.960064</td>\n",
       "      <td>40.766235</td>\n",
       "      <td>2</td>\n",
       "    </tr>\n",
       "    <tr>\n",
       "      <th>3</th>\n",
       "      <td>2010-04-11 21:25:03 UTC</td>\n",
       "      <td>8.9</td>\n",
       "      <td>0</td>\n",
       "      <td>-73.990485</td>\n",
       "      <td>40.756422</td>\n",
       "      <td>-73.971205</td>\n",
       "      <td>40.748192</td>\n",
       "      <td>1</td>\n",
       "    </tr>\n",
       "    <tr>\n",
       "      <th>4</th>\n",
       "      <td>2010-04-17 02:19:01 UTC</td>\n",
       "      <td>19.7</td>\n",
       "      <td>1</td>\n",
       "      <td>-73.990976</td>\n",
       "      <td>40.734202</td>\n",
       "      <td>-73.905956</td>\n",
       "      <td>40.743115</td>\n",
       "      <td>1</td>\n",
       "    </tr>\n",
       "  </tbody>\n",
       "</table>\n",
       "</div>"
      ],
      "text/plain": [
       "           pickup_datetime  fare_amount  fare_class  pickup_longitude  \\\n",
       "0  2010-04-19 08:17:56 UTC          6.5           0        -73.992365   \n",
       "1  2010-04-17 15:43:53 UTC          6.9           0        -73.990078   \n",
       "2  2010-04-17 11:23:26 UTC         10.1           1        -73.994149   \n",
       "3  2010-04-11 21:25:03 UTC          8.9           0        -73.990485   \n",
       "4  2010-04-17 02:19:01 UTC         19.7           1        -73.990976   \n",
       "\n",
       "   pickup_latitude  dropoff_longitude  dropoff_latitude  passenger_count  \n",
       "0        40.730521         -73.975499         40.744746                1  \n",
       "1        40.740558         -73.974232         40.744114                1  \n",
       "2        40.751118         -73.960064         40.766235                2  \n",
       "3        40.756422         -73.971205         40.748192                1  \n",
       "4        40.734202         -73.905956         40.743115                1  "
      ]
     },
     "execution_count": 2,
     "metadata": {},
     "output_type": "execute_result"
    }
   ],
   "source": [
    "# Adjust file path as needed\n",
    "df = pd.read_csv('Data/NYCTaxiFares.csv')\n",
    "print(df.shape)\n",
    "df.head()\n"
   ]
  },
  {
   "cell_type": "markdown",
   "id": "97681b2d-fc56-4055-b20a-30491b456485",
   "metadata": {},
   "source": [
    "## Step 3: Data Cleaning and Exploration"
   ]
  },
  {
   "cell_type": "code",
   "execution_count": 3,
   "id": "6977f114-c4e2-4004-8a95-8852873584b3",
   "metadata": {},
   "outputs": [
    {
     "data": {
      "text/plain": [
       "pickup_datetime      0\n",
       "fare_amount          0\n",
       "fare_class           0\n",
       "pickup_longitude     0\n",
       "pickup_latitude      0\n",
       "dropoff_longitude    0\n",
       "dropoff_latitude     0\n",
       "passenger_count      0\n",
       "dtype: int64"
      ]
     },
     "execution_count": 3,
     "metadata": {},
     "output_type": "execute_result"
    }
   ],
   "source": [
    "df.isnull().sum()\n"
   ]
  },
  {
   "cell_type": "markdown",
   "id": "10832d85-15fd-4929-8451-54857eeadaf1",
   "metadata": {},
   "source": [
    "3.2. Check for Outliers or Invalid Coordinates\n",
    "Coordinates can sometimes be out of the normal NYC range:"
   ]
  },
  {
   "cell_type": "code",
   "execution_count": 4,
   "id": "d6829f4a-87af-45fb-8662-8ae42d420eba",
   "metadata": {},
   "outputs": [],
   "source": [
    "# NYC coordinate bounds (approx):\n",
    "# lat ~ [40.5, 41.8], lon ~ [-74.3, -73.0]\n",
    "\n",
    "valid_lon_range = (-75, -72)\n",
    "valid_lat_range = (40, 42)\n",
    "\n",
    "df = df[(df['pickup_longitude'].between(*valid_lon_range)) & \n",
    "        (df['pickup_latitude'].between(*valid_lat_range)) & \n",
    "        (df['dropoff_longitude'].between(*valid_lon_range)) & \n",
    "        (df['dropoff_latitude'].between(*valid_lat_range))]\n",
    "\n",
    "# Also remove obviously wrong fares or passenger counts\n",
    "df = df[df['fare_amount'] > 0]\n",
    "df = df[df['passenger_count'] > 0]\n"
   ]
  },
  {
   "cell_type": "code",
   "execution_count": 5,
   "id": "55c92958-bf61-49d0-ba4c-11e1de5ef6a0",
   "metadata": {},
   "outputs": [
    {
     "data": {
      "text/plain": [
       "(120000, 8)"
      ]
     },
     "execution_count": 5,
     "metadata": {},
     "output_type": "execute_result"
    }
   ],
   "source": [
    "df.shape"
   ]
  },
  {
   "cell_type": "markdown",
   "id": "e27c5354-a597-44a2-9347-0ec116887503",
   "metadata": {},
   "source": [
    "3.3. Parse Datetime\\\n",
    "If your dataset has a pickup_datetime column, convert it to a proper datetime object:"
   ]
  },
  {
   "cell_type": "code",
   "execution_count": 6,
   "id": "6ce07959-98f7-4395-857e-77087ddbc2da",
   "metadata": {},
   "outputs": [],
   "source": [
    "df['pickup_datetime'] = pd.to_datetime(df['pickup_datetime'], errors='coerce')\n",
    "df.dropna(subset=['pickup_datetime'], inplace=True)  # drop rows where datetime is invalid\n"
   ]
  },
  {
   "cell_type": "code",
   "execution_count": 7,
   "id": "8bc4a3b0-bb99-45aa-b11f-761654521f80",
   "metadata": {},
   "outputs": [
    {
     "data": {
      "text/plain": [
       "(120000, 8)"
      ]
     },
     "execution_count": 7,
     "metadata": {},
     "output_type": "execute_result"
    }
   ],
   "source": [
    "df.shape"
   ]
  },
  {
   "cell_type": "code",
   "execution_count": 8,
   "id": "d454f218-402e-4d2b-b400-e19bc37eb79e",
   "metadata": {},
   "outputs": [],
   "source": [
    "df['hour'] = df['pickup_datetime'].dt.hour\n",
    "df['day'] = df['pickup_datetime'].dt.day\n",
    "df['weekday'] = df['pickup_datetime'].dt.weekday\n",
    "df['month'] = df['pickup_datetime'].dt.month"
   ]
  },
  {
   "cell_type": "code",
   "execution_count": 9,
   "id": "f2524c22-ad19-4e0b-972d-a28408563967",
   "metadata": {},
   "outputs": [
    {
     "data": {
      "text/html": [
       "<div>\n",
       "<style scoped>\n",
       "    .dataframe tbody tr th:only-of-type {\n",
       "        vertical-align: middle;\n",
       "    }\n",
       "\n",
       "    .dataframe tbody tr th {\n",
       "        vertical-align: top;\n",
       "    }\n",
       "\n",
       "    .dataframe thead th {\n",
       "        text-align: right;\n",
       "    }\n",
       "</style>\n",
       "<table border=\"1\" class=\"dataframe\">\n",
       "  <thead>\n",
       "    <tr style=\"text-align: right;\">\n",
       "      <th></th>\n",
       "      <th>pickup_datetime</th>\n",
       "      <th>fare_amount</th>\n",
       "      <th>fare_class</th>\n",
       "      <th>pickup_longitude</th>\n",
       "      <th>pickup_latitude</th>\n",
       "      <th>dropoff_longitude</th>\n",
       "      <th>dropoff_latitude</th>\n",
       "      <th>passenger_count</th>\n",
       "      <th>hour</th>\n",
       "      <th>day</th>\n",
       "      <th>weekday</th>\n",
       "      <th>month</th>\n",
       "    </tr>\n",
       "  </thead>\n",
       "  <tbody>\n",
       "    <tr>\n",
       "      <th>0</th>\n",
       "      <td>2010-04-19 08:17:56+00:00</td>\n",
       "      <td>6.5</td>\n",
       "      <td>0</td>\n",
       "      <td>-73.992365</td>\n",
       "      <td>40.730521</td>\n",
       "      <td>-73.975499</td>\n",
       "      <td>40.744746</td>\n",
       "      <td>1</td>\n",
       "      <td>8</td>\n",
       "      <td>19</td>\n",
       "      <td>0</td>\n",
       "      <td>4</td>\n",
       "    </tr>\n",
       "    <tr>\n",
       "      <th>1</th>\n",
       "      <td>2010-04-17 15:43:53+00:00</td>\n",
       "      <td>6.9</td>\n",
       "      <td>0</td>\n",
       "      <td>-73.990078</td>\n",
       "      <td>40.740558</td>\n",
       "      <td>-73.974232</td>\n",
       "      <td>40.744114</td>\n",
       "      <td>1</td>\n",
       "      <td>15</td>\n",
       "      <td>17</td>\n",
       "      <td>5</td>\n",
       "      <td>4</td>\n",
       "    </tr>\n",
       "    <tr>\n",
       "      <th>2</th>\n",
       "      <td>2010-04-17 11:23:26+00:00</td>\n",
       "      <td>10.1</td>\n",
       "      <td>1</td>\n",
       "      <td>-73.994149</td>\n",
       "      <td>40.751118</td>\n",
       "      <td>-73.960064</td>\n",
       "      <td>40.766235</td>\n",
       "      <td>2</td>\n",
       "      <td>11</td>\n",
       "      <td>17</td>\n",
       "      <td>5</td>\n",
       "      <td>4</td>\n",
       "    </tr>\n",
       "    <tr>\n",
       "      <th>3</th>\n",
       "      <td>2010-04-11 21:25:03+00:00</td>\n",
       "      <td>8.9</td>\n",
       "      <td>0</td>\n",
       "      <td>-73.990485</td>\n",
       "      <td>40.756422</td>\n",
       "      <td>-73.971205</td>\n",
       "      <td>40.748192</td>\n",
       "      <td>1</td>\n",
       "      <td>21</td>\n",
       "      <td>11</td>\n",
       "      <td>6</td>\n",
       "      <td>4</td>\n",
       "    </tr>\n",
       "    <tr>\n",
       "      <th>4</th>\n",
       "      <td>2010-04-17 02:19:01+00:00</td>\n",
       "      <td>19.7</td>\n",
       "      <td>1</td>\n",
       "      <td>-73.990976</td>\n",
       "      <td>40.734202</td>\n",
       "      <td>-73.905956</td>\n",
       "      <td>40.743115</td>\n",
       "      <td>1</td>\n",
       "      <td>2</td>\n",
       "      <td>17</td>\n",
       "      <td>5</td>\n",
       "      <td>4</td>\n",
       "    </tr>\n",
       "  </tbody>\n",
       "</table>\n",
       "</div>"
      ],
      "text/plain": [
       "            pickup_datetime  fare_amount  fare_class  pickup_longitude  \\\n",
       "0 2010-04-19 08:17:56+00:00          6.5           0        -73.992365   \n",
       "1 2010-04-17 15:43:53+00:00          6.9           0        -73.990078   \n",
       "2 2010-04-17 11:23:26+00:00         10.1           1        -73.994149   \n",
       "3 2010-04-11 21:25:03+00:00          8.9           0        -73.990485   \n",
       "4 2010-04-17 02:19:01+00:00         19.7           1        -73.990976   \n",
       "\n",
       "   pickup_latitude  dropoff_longitude  dropoff_latitude  passenger_count  \\\n",
       "0        40.730521         -73.975499         40.744746                1   \n",
       "1        40.740558         -73.974232         40.744114                1   \n",
       "2        40.751118         -73.960064         40.766235                2   \n",
       "3        40.756422         -73.971205         40.748192                1   \n",
       "4        40.734202         -73.905956         40.743115                1   \n",
       "\n",
       "   hour  day  weekday  month  \n",
       "0     8   19        0      4  \n",
       "1    15   17        5      4  \n",
       "2    11   17        5      4  \n",
       "3    21   11        6      4  \n",
       "4     2   17        5      4  "
      ]
     },
     "execution_count": 9,
     "metadata": {},
     "output_type": "execute_result"
    }
   ],
   "source": [
    "df.head()"
   ]
  },
  {
   "cell_type": "markdown",
   "id": "f48687fb-cdef-4119-8c24-c879dc72b5d1",
   "metadata": {},
   "source": [
    "## Step 4: Feature Engineering\n",
    "We need numeric features suitable for feeding into a neural network. Common features for taxi fare prediction include:\n",
    "\n",
    "pickup_longitude\n",
    "pickup_latitude\n",
    "dropoff_longitude\n",
    "dropoff_latitude\n",
    "passenger_count\n",
    "hour, day, weekday, month (extracted from pickup_datetime) \\\n",
    "distance between pickup and dropoff \\\n",
    "A common approach to measure distance is the Haversine formula (great-circle distance). Let’s define a small helper function:"
   ]
  },
  {
   "cell_type": "code",
   "execution_count": 10,
   "id": "47e076b4-3080-4bb9-bc9a-b4e1b2cdb962",
   "metadata": {},
   "outputs": [],
   "source": [
    "def haversine_distance(lat1, lon1, lat2, lon2):\n",
    "    # radius of earth in kilometers\n",
    "    R = 6371\n",
    "\n",
    "    # convert degrees to radians\n",
    "    phi1 = np.radians(lat1)\n",
    "    phi2 = np.radians(lat2)\n",
    "    delta_phi = np.radians(lat2 - lat1)\n",
    "    delta_lambda = np.radians(lon2 - lon1)\n",
    "\n",
    "    # Haversine formula\n",
    "    a = np.sin(delta_phi / 2) ** 2 + np.cos(phi1) * np.cos(phi2) * np.sin(delta_lambda / 2) ** 2\n",
    "    c = 2 * np.arcsin(np.sqrt(a))\n",
    "    return R * c  # final distance in km\n",
    "\n",
    "df['distance_km'] = haversine_distance(df['pickup_latitude'],\n",
    "                                       df['pickup_longitude'],\n",
    "                                       df['dropoff_latitude'],\n",
    "                                       df['dropoff_longitude'])\n"
   ]
  },
  {
   "cell_type": "code",
   "execution_count": 11,
   "id": "091c5462-0d7d-4b77-8aff-d097e88e202b",
   "metadata": {},
   "outputs": [
    {
     "data": {
      "text/html": [
       "<div>\n",
       "<style scoped>\n",
       "    .dataframe tbody tr th:only-of-type {\n",
       "        vertical-align: middle;\n",
       "    }\n",
       "\n",
       "    .dataframe tbody tr th {\n",
       "        vertical-align: top;\n",
       "    }\n",
       "\n",
       "    .dataframe thead th {\n",
       "        text-align: right;\n",
       "    }\n",
       "</style>\n",
       "<table border=\"1\" class=\"dataframe\">\n",
       "  <thead>\n",
       "    <tr style=\"text-align: right;\">\n",
       "      <th></th>\n",
       "      <th>pickup_datetime</th>\n",
       "      <th>fare_amount</th>\n",
       "      <th>fare_class</th>\n",
       "      <th>pickup_longitude</th>\n",
       "      <th>pickup_latitude</th>\n",
       "      <th>dropoff_longitude</th>\n",
       "      <th>dropoff_latitude</th>\n",
       "      <th>passenger_count</th>\n",
       "      <th>hour</th>\n",
       "      <th>day</th>\n",
       "      <th>weekday</th>\n",
       "      <th>month</th>\n",
       "      <th>distance_km</th>\n",
       "    </tr>\n",
       "  </thead>\n",
       "  <tbody>\n",
       "    <tr>\n",
       "      <th>0</th>\n",
       "      <td>2010-04-19 08:17:56+00:00</td>\n",
       "      <td>6.5</td>\n",
       "      <td>0</td>\n",
       "      <td>-73.992365</td>\n",
       "      <td>40.730521</td>\n",
       "      <td>-73.975499</td>\n",
       "      <td>40.744746</td>\n",
       "      <td>1</td>\n",
       "      <td>8</td>\n",
       "      <td>19</td>\n",
       "      <td>0</td>\n",
       "      <td>4</td>\n",
       "      <td>2.126312</td>\n",
       "    </tr>\n",
       "    <tr>\n",
       "      <th>1</th>\n",
       "      <td>2010-04-17 15:43:53+00:00</td>\n",
       "      <td>6.9</td>\n",
       "      <td>0</td>\n",
       "      <td>-73.990078</td>\n",
       "      <td>40.740558</td>\n",
       "      <td>-73.974232</td>\n",
       "      <td>40.744114</td>\n",
       "      <td>1</td>\n",
       "      <td>15</td>\n",
       "      <td>17</td>\n",
       "      <td>5</td>\n",
       "      <td>4</td>\n",
       "      <td>1.392307</td>\n",
       "    </tr>\n",
       "    <tr>\n",
       "      <th>2</th>\n",
       "      <td>2010-04-17 11:23:26+00:00</td>\n",
       "      <td>10.1</td>\n",
       "      <td>1</td>\n",
       "      <td>-73.994149</td>\n",
       "      <td>40.751118</td>\n",
       "      <td>-73.960064</td>\n",
       "      <td>40.766235</td>\n",
       "      <td>2</td>\n",
       "      <td>11</td>\n",
       "      <td>17</td>\n",
       "      <td>5</td>\n",
       "      <td>4</td>\n",
       "      <td>3.326763</td>\n",
       "    </tr>\n",
       "    <tr>\n",
       "      <th>3</th>\n",
       "      <td>2010-04-11 21:25:03+00:00</td>\n",
       "      <td>8.9</td>\n",
       "      <td>0</td>\n",
       "      <td>-73.990485</td>\n",
       "      <td>40.756422</td>\n",
       "      <td>-73.971205</td>\n",
       "      <td>40.748192</td>\n",
       "      <td>1</td>\n",
       "      <td>21</td>\n",
       "      <td>11</td>\n",
       "      <td>6</td>\n",
       "      <td>4</td>\n",
       "      <td>1.864129</td>\n",
       "    </tr>\n",
       "    <tr>\n",
       "      <th>4</th>\n",
       "      <td>2010-04-17 02:19:01+00:00</td>\n",
       "      <td>19.7</td>\n",
       "      <td>1</td>\n",
       "      <td>-73.990976</td>\n",
       "      <td>40.734202</td>\n",
       "      <td>-73.905956</td>\n",
       "      <td>40.743115</td>\n",
       "      <td>1</td>\n",
       "      <td>2</td>\n",
       "      <td>17</td>\n",
       "      <td>5</td>\n",
       "      <td>4</td>\n",
       "      <td>7.231321</td>\n",
       "    </tr>\n",
       "  </tbody>\n",
       "</table>\n",
       "</div>"
      ],
      "text/plain": [
       "            pickup_datetime  fare_amount  fare_class  pickup_longitude  \\\n",
       "0 2010-04-19 08:17:56+00:00          6.5           0        -73.992365   \n",
       "1 2010-04-17 15:43:53+00:00          6.9           0        -73.990078   \n",
       "2 2010-04-17 11:23:26+00:00         10.1           1        -73.994149   \n",
       "3 2010-04-11 21:25:03+00:00          8.9           0        -73.990485   \n",
       "4 2010-04-17 02:19:01+00:00         19.7           1        -73.990976   \n",
       "\n",
       "   pickup_latitude  dropoff_longitude  dropoff_latitude  passenger_count  \\\n",
       "0        40.730521         -73.975499         40.744746                1   \n",
       "1        40.740558         -73.974232         40.744114                1   \n",
       "2        40.751118         -73.960064         40.766235                2   \n",
       "3        40.756422         -73.971205         40.748192                1   \n",
       "4        40.734202         -73.905956         40.743115                1   \n",
       "\n",
       "   hour  day  weekday  month  distance_km  \n",
       "0     8   19        0      4     2.126312  \n",
       "1    15   17        5      4     1.392307  \n",
       "2    11   17        5      4     3.326763  \n",
       "3    21   11        6      4     1.864129  \n",
       "4     2   17        5      4     7.231321  "
      ]
     },
     "execution_count": 11,
     "metadata": {},
     "output_type": "execute_result"
    }
   ],
   "source": [
    "df.head()"
   ]
  },
  {
   "cell_type": "code",
   "execution_count": 12,
   "id": "1c6862d4-f786-4090-8bbc-b9b7c669d960",
   "metadata": {},
   "outputs": [
    {
     "data": {
      "text/html": [
       "<div>\n",
       "<style scoped>\n",
       "    .dataframe tbody tr th:only-of-type {\n",
       "        vertical-align: middle;\n",
       "    }\n",
       "\n",
       "    .dataframe tbody tr th {\n",
       "        vertical-align: top;\n",
       "    }\n",
       "\n",
       "    .dataframe thead th {\n",
       "        text-align: right;\n",
       "    }\n",
       "</style>\n",
       "<table border=\"1\" class=\"dataframe\">\n",
       "  <thead>\n",
       "    <tr style=\"text-align: right;\">\n",
       "      <th></th>\n",
       "      <th>fare_amount</th>\n",
       "      <th>fare_class</th>\n",
       "      <th>pickup_longitude</th>\n",
       "      <th>pickup_latitude</th>\n",
       "      <th>dropoff_longitude</th>\n",
       "      <th>dropoff_latitude</th>\n",
       "      <th>passenger_count</th>\n",
       "      <th>hour</th>\n",
       "      <th>day</th>\n",
       "      <th>weekday</th>\n",
       "      <th>month</th>\n",
       "      <th>distance_km</th>\n",
       "    </tr>\n",
       "  </thead>\n",
       "  <tbody>\n",
       "    <tr>\n",
       "      <th>0</th>\n",
       "      <td>6.5</td>\n",
       "      <td>0</td>\n",
       "      <td>-73.992365</td>\n",
       "      <td>40.730521</td>\n",
       "      <td>-73.975499</td>\n",
       "      <td>40.744746</td>\n",
       "      <td>1</td>\n",
       "      <td>8</td>\n",
       "      <td>19</td>\n",
       "      <td>0</td>\n",
       "      <td>4</td>\n",
       "      <td>2.126312</td>\n",
       "    </tr>\n",
       "    <tr>\n",
       "      <th>1</th>\n",
       "      <td>6.9</td>\n",
       "      <td>0</td>\n",
       "      <td>-73.990078</td>\n",
       "      <td>40.740558</td>\n",
       "      <td>-73.974232</td>\n",
       "      <td>40.744114</td>\n",
       "      <td>1</td>\n",
       "      <td>15</td>\n",
       "      <td>17</td>\n",
       "      <td>5</td>\n",
       "      <td>4</td>\n",
       "      <td>1.392307</td>\n",
       "    </tr>\n",
       "    <tr>\n",
       "      <th>2</th>\n",
       "      <td>10.1</td>\n",
       "      <td>1</td>\n",
       "      <td>-73.994149</td>\n",
       "      <td>40.751118</td>\n",
       "      <td>-73.960064</td>\n",
       "      <td>40.766235</td>\n",
       "      <td>2</td>\n",
       "      <td>11</td>\n",
       "      <td>17</td>\n",
       "      <td>5</td>\n",
       "      <td>4</td>\n",
       "      <td>3.326763</td>\n",
       "    </tr>\n",
       "    <tr>\n",
       "      <th>3</th>\n",
       "      <td>8.9</td>\n",
       "      <td>0</td>\n",
       "      <td>-73.990485</td>\n",
       "      <td>40.756422</td>\n",
       "      <td>-73.971205</td>\n",
       "      <td>40.748192</td>\n",
       "      <td>1</td>\n",
       "      <td>21</td>\n",
       "      <td>11</td>\n",
       "      <td>6</td>\n",
       "      <td>4</td>\n",
       "      <td>1.864129</td>\n",
       "    </tr>\n",
       "    <tr>\n",
       "      <th>4</th>\n",
       "      <td>19.7</td>\n",
       "      <td>1</td>\n",
       "      <td>-73.990976</td>\n",
       "      <td>40.734202</td>\n",
       "      <td>-73.905956</td>\n",
       "      <td>40.743115</td>\n",
       "      <td>1</td>\n",
       "      <td>2</td>\n",
       "      <td>17</td>\n",
       "      <td>5</td>\n",
       "      <td>4</td>\n",
       "      <td>7.231321</td>\n",
       "    </tr>\n",
       "  </tbody>\n",
       "</table>\n",
       "</div>"
      ],
      "text/plain": [
       "   fare_amount  fare_class  pickup_longitude  pickup_latitude  \\\n",
       "0          6.5           0        -73.992365        40.730521   \n",
       "1          6.9           0        -73.990078        40.740558   \n",
       "2         10.1           1        -73.994149        40.751118   \n",
       "3          8.9           0        -73.990485        40.756422   \n",
       "4         19.7           1        -73.990976        40.734202   \n",
       "\n",
       "   dropoff_longitude  dropoff_latitude  passenger_count  hour  day  weekday  \\\n",
       "0         -73.975499         40.744746                1     8   19        0   \n",
       "1         -73.974232         40.744114                1    15   17        5   \n",
       "2         -73.960064         40.766235                2    11   17        5   \n",
       "3         -73.971205         40.748192                1    21   11        6   \n",
       "4         -73.905956         40.743115                1     2   17        5   \n",
       "\n",
       "   month  distance_km  \n",
       "0      4     2.126312  \n",
       "1      4     1.392307  \n",
       "2      4     3.326763  \n",
       "3      4     1.864129  \n",
       "4      4     7.231321  "
      ]
     },
     "execution_count": 12,
     "metadata": {},
     "output_type": "execute_result"
    }
   ],
   "source": [
    "# We can then drop columns we don’t need. Also, if you want to keep key or pickup_datetime for reference, that’s fine, but they’re often not used directly as features.\n",
    "# Drop columns not used as features\n",
    "df.drop(['pickup_datetime'], axis=1, inplace=True)\n",
    "\n",
    "df.head()\n"
   ]
  },
  {
   "cell_type": "markdown",
   "id": "f73e8681-d91f-4395-827a-3d27a808872d",
   "metadata": {},
   "source": [
    "## Step 5: Train/Test Split\n",
    "Since we’re doing a supervised learning task, we need to separate our dataset into training and test sets."
   ]
  },
  {
   "cell_type": "code",
   "execution_count": 13,
   "id": "ad7d0916-498d-4901-b934-d605c74b1814",
   "metadata": {},
   "outputs": [
    {
     "name": "stdout",
     "output_type": "stream",
     "text": [
      "(96000, 11) (24000, 11)\n"
     ]
    }
   ],
   "source": [
    "from sklearn.model_selection import train_test_split\n",
    "\n",
    "# Our target is the fare_amount\n",
    "X = df.drop('fare_amount', axis=1)\n",
    "y = df['fare_amount']\n",
    "\n",
    "X_train, X_test, y_train, y_test = train_test_split(\n",
    "    X, y, test_size=0.2, random_state=42\n",
    ")\n",
    "\n",
    "print(X_train.shape, X_test.shape)\n"
   ]
  },
  {
   "cell_type": "markdown",
   "id": "f6081755-7824-4045-b201-f3e3764da6db",
   "metadata": {},
   "source": [
    "## Step 6: Scaling the Features (Optional but Common)\n",
    "Neural networks often work better when features are on a similar scale. You can use something like StandardScaler or MinMaxScaler. Here, we’ll demonstrate StandardScaler."
   ]
  },
  {
   "cell_type": "code",
   "execution_count": 14,
   "id": "b100602a-941a-42a9-a992-f973eee87990",
   "metadata": {},
   "outputs": [],
   "source": [
    "from sklearn.preprocessing import StandardScaler\n",
    "\n",
    "scaler = StandardScaler()\n",
    "\n",
    "X_train_scaled = scaler.fit_transform(X_train)\n",
    "X_test_scaled = scaler.transform(X_test)\n"
   ]
  },
  {
   "cell_type": "code",
   "execution_count": 15,
   "id": "e3c12ef0-4443-4deb-a7ca-a1eddfa66cce",
   "metadata": {},
   "outputs": [
    {
     "data": {
      "text/plain": [
       "array([[-0.7071565 ,  0.05857342,  1.60289278, ...,  0.49345861,\n",
       "         0.        , -0.50025633],\n",
       "       [-0.7071565 , -0.14707899, -0.29595306, ..., -0.53157713,\n",
       "         0.        , -0.64673776],\n",
       "       [ 1.41411413, -0.14919067,  0.08188991, ...,  0.49345861,\n",
       "         0.        ,  0.06615894],\n",
       "       ...,\n",
       "       [ 1.41411413, -0.85436571, -1.70192339, ...,  1.51849435,\n",
       "         0.        ,  0.29078752],\n",
       "       [-0.7071565 , -0.38809417, -0.79657188, ...,  1.00597648,\n",
       "         0.        , -0.58727432],\n",
       "       [-0.7071565 , -0.89546468, -0.38170739, ...,  1.00597648,\n",
       "         0.        , -0.82155914]])"
      ]
     },
     "execution_count": 15,
     "metadata": {},
     "output_type": "execute_result"
    }
   ],
   "source": [
    "X_train_scaled"
   ]
  },
  {
   "cell_type": "markdown",
   "id": "58070c3a-be8b-4464-a261-d0977d251d52",
   "metadata": {},
   "source": [
    "## Step 7: Build the PyTorch Dataset and Dataloader\n",
    "PyTorch models typically expect data in the form of Dataset and DataLoader. Let’s define a simple dataset class:"
   ]
  },
  {
   "cell_type": "code",
   "execution_count": 16,
   "id": "cac7e7a0-094e-4d9c-945e-5c65e600e74f",
   "metadata": {},
   "outputs": [],
   "source": [
    "from torch.utils.data import Dataset, DataLoader\n",
    "\n",
    "class TaxiFareDataset(Dataset):\n",
    "    def __init__(self, X, y):\n",
    "        # Convert X and y to torch tensors\n",
    "        self.X = torch.tensor(X, dtype=torch.float32)\n",
    "        self.y = torch.tensor(y.values, dtype=torch.float32).view(-1, 1)  # shape (N, 1)\n",
    "\n",
    "    def __len__(self):\n",
    "        return len(self.X)\n",
    "\n",
    "    def __getitem__(self, idx):\n",
    "        return self.X[idx], self.y[idx]\n",
    "\n",
    "# Create dataset objects\n",
    "train_dataset = TaxiFareDataset(X_train_scaled, y_train)\n",
    "test_dataset = TaxiFareDataset(X_test_scaled, y_test)\n",
    "\n",
    "# Create data loaders\n",
    "batch_size = 64\n",
    "train_loader = DataLoader(train_dataset, batch_size=batch_size, shuffle=True)\n",
    "test_loader = DataLoader(test_dataset, batch_size=batch_size, shuffle=False)\n"
   ]
  },
  {
   "cell_type": "markdown",
   "id": "a795c15b-8927-44f3-b298-8607a91a6c90",
   "metadata": {},
   "source": [
    "## Step 8: Define the Model\n",
    "We’ll build a simple feedforward network with a few fully connected (linear) layers. For a regression problem, the final layer will have 1 output neuron (predicting the fare). We can tweak the number of hidden layers and neurons as desired."
   ]
  },
  {
   "cell_type": "code",
   "execution_count": 17,
   "id": "523f8083-222a-4a02-ac08-a3d86a35fe93",
   "metadata": {},
   "outputs": [
    {
     "name": "stdout",
     "output_type": "stream",
     "text": [
      "input_dim=11\n"
     ]
    }
   ],
   "source": [
    "import torch\n",
    "import torch.nn as nn\n",
    "\n",
    "input_dim = X_train.shape[1]  # number of features\n",
    "print(f'{input_dim=}')\n",
    "\n",
    "class TaxiFareModel(nn.Module):\n",
    "    def __init__(self, input_dim):\n",
    "        super(TaxiFareModel, self).__init__()\n",
    "        \n",
    "        self.net = nn.Sequential(\n",
    "            nn.Linear(input_dim, 128),\n",
    "            nn.LayerNorm(128),    # Layer normalization\n",
    "            nn.ReLU(),\n",
    "            nn.Dropout(0.2),      # Dropout\n",
    "\n",
    "            nn.Linear(128, 64),\n",
    "            nn.LayerNorm(64),\n",
    "            nn.ReLU(),\n",
    "            nn.Dropout(0.2),\n",
    "\n",
    "            nn.Linear(64, 32),\n",
    "            nn.LayerNorm(32),\n",
    "            nn.ReLU(),\n",
    "            nn.Dropout(0.2),\n",
    "\n",
    "            nn.Linear(32, 1)      # 1 output neuron for regression\n",
    "        )\n",
    "        \n",
    "    def forward(self, x):\n",
    "        return self.net(x)\n",
    "\n",
    "model = TaxiFareModel(input_dim)\n",
    "\n"
   ]
  },
  {
   "cell_type": "markdown",
   "id": "f14f4200-1bb9-4a9c-988c-0a8aa4227e16",
   "metadata": {},
   "source": [
    "## Step 9: Define Loss Function and Optimizer\n",
    "For a regression task, a common choice is Mean Squared Error (MSE) or Smooth L1 (Huber loss). Let’s use MSELoss."
   ]
  },
  {
   "cell_type": "code",
   "execution_count": 18,
   "id": "582c8e28-1659-49ed-9dc5-7b0425a15816",
   "metadata": {},
   "outputs": [],
   "source": [
    "criterion = nn.MSELoss()\n",
    "optimizer = optim.Adam(model.parameters(), lr=0.001)"
   ]
  },
  {
   "cell_type": "markdown",
   "id": "1d418a36-7e6b-4682-b3c5-0dece764dae5",
   "metadata": {},
   "source": [
    "## Step 10: Training Loop\n",
    "We’ll now define a function to train the model for a certain number of epochs. During each epoch, we’ll iterate over the training DataLoader, perform a forward pass, compute loss, backpropagate, and update weights."
   ]
  },
  {
   "cell_type": "code",
   "execution_count": 19,
   "id": "dc8b70d0-f91c-40e3-81d3-131b765ecbca",
   "metadata": {},
   "outputs": [
    {
     "name": "stdout",
     "output_type": "stream",
     "text": [
      "Epoch [1/10], Loss: 35.7064\n",
      "Epoch [2/10], Loss: 10.6449\n",
      "Epoch [3/10], Loss: 8.9599\n",
      "Epoch [4/10], Loss: 8.5718\n",
      "Epoch [5/10], Loss: 8.2612\n",
      "Epoch [6/10], Loss: 7.9473\n",
      "Epoch [7/10], Loss: 7.7492\n",
      "Epoch [8/10], Loss: 7.5872\n",
      "Epoch [9/10], Loss: 7.4423\n",
      "Epoch [10/10], Loss: 7.2873\n"
     ]
    }
   ],
   "source": [
    "num_epochs = 10  # increase this for better results\n",
    "\n",
    "for epoch in range(num_epochs):\n",
    "    model.train()  # set model to training mode\n",
    "    \n",
    "    running_loss = 0.0\n",
    "    for batch_X, batch_y in train_loader:\n",
    "        optimizer.zero_grad()\n",
    "        \n",
    "        # Forward pass\n",
    "        outputs = model(batch_X)\n",
    "        loss = criterion(outputs, batch_y)\n",
    "        \n",
    "        # Backward pass and optimization\n",
    "        loss.backward()\n",
    "        optimizer.step()\n",
    "        \n",
    "        running_loss += loss.item() * batch_X.size(0)\n",
    "    \n",
    "    epoch_loss = running_loss / len(train_dataset)\n",
    "    print(f\"Epoch [{epoch+1}/{num_epochs}], Loss: {epoch_loss:.4f}\")\n"
   ]
  },
  {
   "cell_type": "markdown",
   "id": "f5b5bd9d-da75-43f0-bb93-2c5f392f2b49",
   "metadata": {},
   "source": [
    "## Step 11: Evaluate the Model\n",
    "Once trained, we can evaluate on the test set. We’ll switch to model.eval() mode and disable gradient calculation with torch.no_grad()."
   ]
  },
  {
   "cell_type": "code",
   "execution_count": 22,
   "id": "22b71af6-dff9-4b8f-b3c9-26f2a8ba7686",
   "metadata": {},
   "outputs": [
    {
     "name": "stdout",
     "output_type": "stream",
     "text": [
      "Test MSE: 5.2426\n",
      "Test RMSE: 2.2897\n"
     ]
    }
   ],
   "source": [
    "model.eval()\n",
    "test_loss = 0.0\n",
    "\n",
    "with torch.no_grad():\n",
    "    for batch_X, batch_y in test_loader:\n",
    "        outputs = model(batch_X)\n",
    "        loss = criterion(outputs, batch_y)\n",
    "        test_loss += loss.item() * batch_X.size(0)\n",
    "\n",
    "test_loss /= len(test_dataset)\n",
    "print(f\"Test MSE: {test_loss:.4f}\")\n",
    "print(f\"Test RMSE: {np.sqrt(test_loss):.4f}\")\n"
   ]
  },
  {
   "cell_type": "markdown",
   "id": "469b09d6-7daa-40ee-ac0e-74a0b6934533",
   "metadata": {},
   "source": [
    "## Step 12: Make Predictions\n",
    "If you want to get predictions for some subset of your data (e.g., the test set), you can do:"
   ]
  },
  {
   "cell_type": "code",
   "execution_count": 23,
   "id": "740db428-3615-43ac-b764-c68c9b4218d6",
   "metadata": {},
   "outputs": [
    {
     "name": "stdout",
     "output_type": "stream",
     "text": [
      "Predicted: 4.85, Actual: 4.10\n",
      "Predicted: 6.82, Actual: 6.90\n",
      "Predicted: 5.87, Actual: 5.70\n",
      "Predicted: 19.32, Actual: 20.50\n",
      "Predicted: 4.80, Actual: 4.50\n",
      "Predicted: 7.72, Actual: 6.90\n",
      "Predicted: 30.26, Actual: 29.20\n",
      "Predicted: 4.60, Actual: 3.30\n",
      "Predicted: 7.49, Actual: 7.70\n",
      "Predicted: 8.10, Actual: 7.70\n"
     ]
    }
   ],
   "source": [
    "model.eval()\n",
    "with torch.no_grad():\n",
    "    predicted_fares = []\n",
    "    actual_fares = []\n",
    "    \n",
    "    for batch_X, batch_y in test_loader:\n",
    "        pred = model(batch_X)\n",
    "        predicted_fares.extend(pred.squeeze().tolist())\n",
    "        actual_fares.extend(batch_y.squeeze().tolist())\n",
    "\n",
    "# Let's look at the first 10 predictions vs actual\n",
    "for i in range(10):\n",
    "    print(f\"Predicted: {predicted_fares[i]:.2f}, Actual: {actual_fares[i]:.2f}\")\n"
   ]
  },
  {
   "cell_type": "code",
   "execution_count": 24,
   "id": "457053f7-2383-4871-a3f9-212149884ab1",
   "metadata": {},
   "outputs": [
    {
     "name": "stdout",
     "output_type": "stream",
     "text": [
      "<class 'pandas.core.frame.DataFrame'>\n",
      "RangeIndex: 120000 entries, 0 to 119999\n",
      "Data columns (total 12 columns):\n",
      " #   Column             Non-Null Count   Dtype  \n",
      "---  ------             --------------   -----  \n",
      " 0   fare_amount        120000 non-null  float64\n",
      " 1   fare_class         120000 non-null  int64  \n",
      " 2   pickup_longitude   120000 non-null  float64\n",
      " 3   pickup_latitude    120000 non-null  float64\n",
      " 4   dropoff_longitude  120000 non-null  float64\n",
      " 5   dropoff_latitude   120000 non-null  float64\n",
      " 6   passenger_count    120000 non-null  int64  \n",
      " 7   hour               120000 non-null  int32  \n",
      " 8   day                120000 non-null  int32  \n",
      " 9   weekday            120000 non-null  int32  \n",
      " 10  month              120000 non-null  int32  \n",
      " 11  distance_km        120000 non-null  float64\n",
      "dtypes: float64(6), int32(4), int64(2)\n",
      "memory usage: 9.2 MB\n"
     ]
    }
   ],
   "source": [
    "df.info()"
   ]
  },
  {
   "cell_type": "code",
   "execution_count": null,
   "id": "2c4fb0cb-349a-4d76-912f-e4d466774b7c",
   "metadata": {},
   "outputs": [],
   "source": []
  }
 ],
 "metadata": {
  "kernelspec": {
   "display_name": "Python 3 (ipykernel)",
   "language": "python",
   "name": "python3"
  },
  "language_info": {
   "codemirror_mode": {
    "name": "ipython",
    "version": 3
   },
   "file_extension": ".py",
   "mimetype": "text/x-python",
   "name": "python",
   "nbconvert_exporter": "python",
   "pygments_lexer": "ipython3",
   "version": "3.12.3"
  }
 },
 "nbformat": 4,
 "nbformat_minor": 5
}
