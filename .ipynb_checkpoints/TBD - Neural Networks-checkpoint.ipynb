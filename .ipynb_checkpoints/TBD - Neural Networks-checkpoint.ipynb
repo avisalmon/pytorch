{
 "cells": [
  {
   "cell_type": "markdown",
   "id": "0d8d456f-3d3d-4c54-87e3-5c46eeae821b",
   "metadata": {},
   "source": [
    "### Understanding Neural Networks as Linear Transformations\n",
    "\n",
    "Neural networks, at their core, can be viewed as a series of **linear transformations** followed by **non-linear activations**. Understanding this fundamental principle allows us to use linear algebra and PyTorch to develop and train efficient models.\n",
    "\n",
    "Linear transformations in neural networks are often represented by **matrix multiplications**.\n",
    "\n",
    "Suppose we have an input vector \\( x \\) and a weight matrix \\( W \\). The product of \\( W \\) and \\( x \\) results in a new vector \\( y \\), which can be expressed as:\n",
    "\n",
    "$$\n",
    "y = W \\times x\n",
    "$$\n",
    "\n",
    "This transformation changes the space and dimensions of the input data, which is a significant aspect of how neural networks operate.\n",
    "\n",
    "### Matrix Multiplication in Neural Networks\n",
    "\n",
    "In the context of a simple neural network layer, the operations performed can be broken down into:\n",
    "- \\( W \\) is the weight matrix associated with the layer.\n",
    "- \\( b \\) is the bias vector.\n",
    "- \\( x \\) is the input vector.\n",
    "\n",
    "The output \\( y \\) is computed by the expression:\n",
    "\n",
    "$$\n",
    "y = W \\times x + b\n",
    "$$\n",
    "\n",
    "This operation combines a **linear transformation** with the addition of the **bias term**.\n",
    "\n",
    "### Non-linear Activation Function\n",
    "\n",
    "The application of a non-linear activation function, such as **ReLU** (Rectified Linear Unit), transforms the output further to introduce non-linearity:\n",
    "\n",
    "$$\n",
    "a = \\text{ReLU}(y)\n",
    "$$\n",
    "\n",
    "The **ReLU** function is defined as:\n",
    "\n",
    "$$\n",
    "\\text{ReLU}(z) = \\max(0, z)\n",
    "$$\n",
    "\n",
    "This non-linearity is crucial for neural networks because it allows them to learn complex patterns that go beyond simple linear mappings.\n"
   ]
  },
  {
   "cell_type": "code",
   "execution_count": null,
   "id": "6c22ae4a-6df3-40e0-bfe5-cf88e5ac2ea0",
   "metadata": {},
   "outputs": [],
   "source": []
  }
 ],
 "metadata": {
  "kernelspec": {
   "display_name": "Python 3 (ipykernel)",
   "language": "python",
   "name": "python3"
  },
  "language_info": {
   "codemirror_mode": {
    "name": "ipython",
    "version": 3
   },
   "file_extension": ".py",
   "mimetype": "text/x-python",
   "name": "python",
   "nbconvert_exporter": "python",
   "pygments_lexer": "ipython3",
   "version": "3.12.3"
  }
 },
 "nbformat": 4,
 "nbformat_minor": 5
}
