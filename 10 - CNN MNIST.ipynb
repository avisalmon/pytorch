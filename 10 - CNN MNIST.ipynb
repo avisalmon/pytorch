{
 "cells": [
  {
   "cell_type": "markdown",
   "id": "7934c889-48a0-4fc2-a045-0109fc9f2d8c",
   "metadata": {},
   "source": [
    "# Convolution Intro with MNIST digits. "
   ]
  },
  {
   "cell_type": "code",
   "execution_count": 1,
   "id": "b227ce55-2dbf-46af-be13-89ca0e02716d",
   "metadata": {},
   "outputs": [],
   "source": [
    "import torch\n",
    "import torch.nn as nn\n",
    "import torch.nn.functional as F"
   ]
  },
  {
   "cell_type": "code",
   "execution_count": 2,
   "id": "f5f7bf76-055a-41d1-800a-146433c2e28c",
   "metadata": {},
   "outputs": [],
   "source": [
    "from torch.utils.data import DataLoader\n",
    "from torchvision import datasets, transforms"
   ]
  },
  {
   "cell_type": "code",
   "execution_count": 5,
   "id": "ff2c9bf4-24d8-45ee-a61f-a70e8a20a571",
   "metadata": {},
   "outputs": [],
   "source": [
    "import numpy as np\n",
    "import pandas as pd\n",
    "from sklearn.metrics import confusion_matrix\n",
    "import matplotlib.pyplot as plt\n",
    "%matplotlib inline "
   ]
  },
  {
   "cell_type": "markdown",
   "id": "0c5150c8-f88a-47ff-ba1b-341546fa733b",
   "metadata": {},
   "source": [
    "## Grab MNIST images --> convert to tensors"
   ]
  },
  {
   "cell_type": "code",
   "execution_count": 7,
   "id": "c4e9652c-a444-42eb-bf2c-4fcb09066de7",
   "metadata": {},
   "outputs": [],
   "source": [
    "transform = transforms.ToTensor()"
   ]
  },
  {
   "cell_type": "code",
   "execution_count": 10,
   "id": "6100ba3e-e16b-4ae3-bd5d-4ad32eb8923d",
   "metadata": {},
   "outputs": [],
   "source": [
    "train_data = datasets.MNIST(root='Data/', train=True, target_transform=transform, download=True)"
   ]
  },
  {
   "cell_type": "code",
   "execution_count": 11,
   "id": "53cf9dad-c601-4ed8-899d-9e0370c3d594",
   "metadata": {},
   "outputs": [],
   "source": [
    "test_data = datasets.MNIST(root='Data/', train=False, target_transform=transform, download=True)"
   ]
  },
  {
   "cell_type": "code",
   "execution_count": 12,
   "id": "6c05e9b6-fa47-4d5c-99f8-877683ff5615",
   "metadata": {},
   "outputs": [
    {
     "data": {
      "text/plain": [
       "Dataset MNIST\n",
       "    Number of datapoints: 60000\n",
       "    Root location: Data/\n",
       "    Split: Train\n",
       "    StandardTransform\n",
       "Target transform: ToTensor()"
      ]
     },
     "execution_count": 12,
     "metadata": {},
     "output_type": "execute_result"
    }
   ],
   "source": [
    "train_data"
   ]
  },
  {
   "cell_type": "code",
   "execution_count": 13,
   "id": "98810e5e-c5aa-43fe-95a2-97fc3d063d01",
   "metadata": {},
   "outputs": [
    {
     "data": {
      "text/plain": [
       "Dataset MNIST\n",
       "    Number of datapoints: 10000\n",
       "    Root location: Data/\n",
       "    Split: Test\n",
       "    StandardTransform\n",
       "Target transform: ToTensor()"
      ]
     },
     "execution_count": 13,
     "metadata": {},
     "output_type": "execute_result"
    }
   ],
   "source": [
    "test_data"
   ]
  },
  {
   "cell_type": "code",
   "execution_count": 14,
   "id": "22ae421a-12ce-4084-ae35-1f81bf98f59a",
   "metadata": {},
   "outputs": [
    {
     "data": {
      "text/plain": [
       "torchvision.datasets.mnist.MNIST"
      ]
     },
     "execution_count": 14,
     "metadata": {},
     "output_type": "execute_result"
    }
   ],
   "source": [
    "type(train_data)"
   ]
  },
  {
   "cell_type": "code",
   "execution_count": null,
   "id": "1b2e4cb8-941e-4d3c-ac58-9d9b7cadc4a8",
   "metadata": {},
   "outputs": [],
   "source": []
  }
 ],
 "metadata": {
  "kernelspec": {
   "display_name": "Python 3 (ipykernel)",
   "language": "python",
   "name": "python3"
  },
  "language_info": {
   "codemirror_mode": {
    "name": "ipython",
    "version": 3
   },
   "file_extension": ".py",
   "mimetype": "text/x-python",
   "name": "python",
   "nbconvert_exporter": "python",
   "pygments_lexer": "ipython3",
   "version": "3.12.3"
  }
 },
 "nbformat": 4,
 "nbformat_minor": 5
}
